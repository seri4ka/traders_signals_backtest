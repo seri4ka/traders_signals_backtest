{
 "cells": [
  {
   "cell_type": "code",
   "execution_count": 11,
   "metadata": {},
   "outputs": [],
   "source": [
    "import pandas as pd\n",
    "import numpy as np\n",
    "\n",
    "import seaborn as sns\n",
    "import matplotlib.pyplot as plt\n",
    "import plotly.graph_objects as go\n",
    "import warnings\n",
    "\n",
    "from tqdm.notebook import tqdm\n",
    "warnings.filterwarnings(\"ignore\")"
   ]
  },
  {
   "cell_type": "code",
   "execution_count": 12,
   "metadata": {},
   "outputs": [],
   "source": [
    "def identify_pinbar(df, body_threshold=0.2, wick_threshold=3):\n",
    "    # Вычисляем длины тела и теней\n",
    "    df['body'] = abs(df['close'] - df['open'])\n",
    "    df['upper_wick'] = df['high'] - df[['open', 'close']].max(axis=1)\n",
    "    df['lower_wick'] = df[['open', 'close']].min(axis=1) - df['low']\n",
    "    df['candle_length'] = df['high'] - df['low']\n",
    "    \n",
    "    # Определяем бычий и медвежий pinbar\n",
    "    df['bullish_pinbar'] = (\n",
    "        (df['body'] <= df['candle_length'] * body_threshold) &  # Маленькое тело\n",
    "        (df['lower_wick'] >= df['body'] * wick_threshold) &      # Длинная нижняя тень\n",
    "        (df['upper_wick'] <= df['body'])                         # Короткая верхняя тень\n",
    "    )\n",
    "\n",
    "    df['bearish_pinbar'] = (\n",
    "        (df['body'] <= df['candle_length'] * body_threshold) &  # Маленькое тело\n",
    "        (df['upper_wick'] >= df['body'] * wick_threshold) &     # Длинная верхняя тень\n",
    "        (df['lower_wick'] <= df['body'])                        # Короткая нижняя тень\n",
    "    )\n",
    "\n",
    "    return df\n",
    "\n",
    "def backtest_pinbar_strategy(df, stop_loss_factor=1.02, take_profit_factor=2):\n",
    "    # Сохраняем результаты торговли\n",
    "    results = {\n",
    "        'date': [],\n",
    "        'signal': [],\n",
    "        'entry_price': [],\n",
    "        'stop_loss': [],\n",
    "        'take_profit': [],\n",
    "        'exit_price': [],\n",
    "        'exit_reason': []\n",
    "    }\n",
    "\n",
    "    for index, row in df.iterrows():\n",
    "        # Определяем числовой индекс для текущей строки\n",
    "        current_idx = df.index.get_loc(index)\n",
    "\n",
    "        # Определяем сигнал на покупку (бычий pinbar)\n",
    "        if row['bullish_pinbar']:\n",
    "            entry_price = row['close']\n",
    "            stop_loss = row['low'] * (1 - 0.01)  # stop-loss немного ниже нижнего фитиля\n",
    "            take_profit = entry_price + (entry_price - stop_loss) * take_profit_factor  # take-profit в несколько раз выше риска\n",
    "            \n",
    "            # Эмуляция бэктеста (ищем выход по stop-loss или take-profit в следующих свечах)\n",
    "            for i in range(current_idx + 1, len(df)):\n",
    "                high, low = df.iloc[i]['high'], df.iloc[i]['low']\n",
    "                if low <= stop_loss:\n",
    "                    results['date'].append(df.index[i])\n",
    "                    results['signal'].append('Buy')\n",
    "                    results['entry_price'].append(entry_price)\n",
    "                    results['stop_loss'].append(stop_loss)\n",
    "                    results['take_profit'].append(take_profit)\n",
    "                    results['exit_price'].append(stop_loss)\n",
    "                    results['exit_reason'].append('Stop Loss')\n",
    "                    break\n",
    "                elif high >= take_profit:\n",
    "                    results['date'].append(df.index[i])\n",
    "                    results['signal'].append('Buy')\n",
    "                    results['entry_price'].append(entry_price)\n",
    "                    results['stop_loss'].append(stop_loss)\n",
    "                    results['take_profit'].append(take_profit)\n",
    "                    results['exit_price'].append(take_profit)\n",
    "                    results['exit_reason'].append('Take Profit')\n",
    "                    break\n",
    "\n",
    "        # Определяем сигнал на продажу (медвежий pinbar)\n",
    "        elif row['bearish_pinbar']:\n",
    "            entry_price = row['close']\n",
    "            stop_loss = row['high'] * (1 + 0.01)  # stop-loss немного выше верхнего фитиля\n",
    "            take_profit = entry_price - (stop_loss - entry_price) * take_profit_factor  # take-profit в несколько раз дальше риска\n",
    "            \n",
    "            # Эмуляция бэктеста\n",
    "            for i in range(current_idx + 1, len(df)):\n",
    "                high, low = df.iloc[i]['high'], df.iloc[i]['low']\n",
    "                if high >= stop_loss:\n",
    "                    results['date'].append(df.index[i])\n",
    "                    results['signal'].append('Sell')\n",
    "                    results['entry_price'].append(entry_price)\n",
    "                    results['stop_loss'].append(stop_loss)\n",
    "                    results['take_profit'].append(take_profit)\n",
    "                    results['exit_price'].append(stop_loss)\n",
    "                    results['exit_reason'].append('Stop Loss')\n",
    "                    break\n",
    "                elif low <= take_profit:\n",
    "                    results['date'].append(df.index[i])\n",
    "                    results['signal'].append('Sell')\n",
    "                    results['entry_price'].append(entry_price)\n",
    "                    results['stop_loss'].append(stop_loss)\n",
    "                    results['take_profit'].append(take_profit)\n",
    "                    results['exit_price'].append(take_profit)\n",
    "                    results['exit_reason'].append('Take Profit')\n",
    "                    break\n",
    "\n",
    "    # Формируем DataFrame с результатами\n",
    "    results_df = pd.DataFrame(results).sort_index()\n",
    "    return results_df\n",
    "\n",
    "def backtest_pinbar_with_filters(df, ema_period=50, atr_period=14, atr_multiplier=1.5):\n",
    "    # Добавляем EMA и ATR в DataFrame\n",
    "    df['EMA'] = df['close'].ewm(span=ema_period, adjust=False).mean()\n",
    "    df['ATR'] = df['high'].rolling(window=atr_period).max() - df['low'].rolling(window=atr_period).min()\n",
    "\n",
    "    # Сохраняем результаты торговли\n",
    "    results = {\n",
    "        'date': [],\n",
    "        'signal': [],\n",
    "        'entry_price': [],\n",
    "        'stop_loss': [],\n",
    "        'take_profit': [],\n",
    "        'exit_price': [],\n",
    "        'exit_reason': []\n",
    "    }\n",
    "\n",
    "    for index, row in df.iterrows():\n",
    "        current_idx = df.index.get_loc(index)\n",
    "\n",
    "        # Условие на покупку: бычий pinbar и цена выше EMA\n",
    "        if row['bullish_pinbar'] and row['close'] > row['EMA']:\n",
    "            entry_price = row['close']\n",
    "            stop_loss = row['low'] - row['ATR'] * atr_multiplier  # Stop-loss на уровне ATR ниже\n",
    "            take_profit = entry_price + (entry_price - stop_loss) * 2  # Take-profit в 2 раза дальше риска\n",
    "            \n",
    "            for i in range(current_idx + 1, len(df)):\n",
    "                high, low = df.iloc[i]['high'], df.iloc[i]['low']\n",
    "                if low <= stop_loss:\n",
    "                    results['date'].append(df.index[i])\n",
    "                    results['signal'].append('Buy')\n",
    "                    results['entry_price'].append(entry_price)\n",
    "                    results['stop_loss'].append(stop_loss)\n",
    "                    results['take_profit'].append(take_profit)\n",
    "                    results['exit_price'].append(stop_loss)\n",
    "                    results['exit_reason'].append('Stop Loss')\n",
    "                    break\n",
    "                elif high >= take_profit:\n",
    "                    results['date'].append(df.index[i])\n",
    "                    results['signal'].append('Buy')\n",
    "                    results['entry_price'].append(entry_price)\n",
    "                    results['stop_loss'].append(stop_loss)\n",
    "                    results['take_profit'].append(take_profit)\n",
    "                    results['exit_price'].append(take_profit)\n",
    "                    results['exit_reason'].append('Take Profit')\n",
    "                    break\n",
    "\n",
    "        # Условие на продажу: медвежий pinbar и цена ниже EMA\n",
    "        elif row['bearish_pinbar'] and row['close'] < row['EMA']:\n",
    "            entry_price = row['close']\n",
    "            stop_loss = row['high'] + row['ATR'] * atr_multiplier  # Stop-loss на уровне ATR выше\n",
    "            take_profit = entry_price - (stop_loss - entry_price) * 2  # Take-profit в 2 раза дальше риска\n",
    "            \n",
    "            for i in range(current_idx + 1, len(df)):\n",
    "                high, low = df.iloc[i]['high'], df.iloc[i]['low']\n",
    "                if high >= stop_loss:\n",
    "                    results['date'].append(df.index[i])\n",
    "                    results['signal'].append('Sell')\n",
    "                    results['entry_price'].append(entry_price)\n",
    "                    results['stop_loss'].append(stop_loss)\n",
    "                    results['take_profit'].append(take_profit)\n",
    "                    results['exit_price'].append(stop_loss)\n",
    "                    results['exit_reason'].append('Stop Loss')\n",
    "                    break\n",
    "                elif low <= take_profit:\n",
    "                    results['date'].append(df.index[i])\n",
    "                    results['signal'].append('Sell')\n",
    "                    results['entry_price'].append(entry_price)\n",
    "                    results['stop_loss'].append(stop_loss)\n",
    "                    results['take_profit'].append(take_profit)\n",
    "                    results['exit_price'].append(take_profit)\n",
    "                    results['exit_reason'].append('Take Profit')\n",
    "                    break\n",
    "\n",
    "    # Формируем DataFrame с результатами\n",
    "    results_df = pd.DataFrame(results)\n",
    "    return results_df\n",
    "\n",
    "def candleplot():\n",
    "    # Создаём фигуру\n",
    "    fig = go.Figure()\n",
    "\n",
    "    # Добавляем свечной график\n",
    "    fig.add_trace(go.Candlestick(\n",
    "        x=df.index,\n",
    "        open=df['open'],\n",
    "        high=df['high'],\n",
    "        low=df['low'],\n",
    "        close=df['close'],\n",
    "        name='Candlestick'\n",
    "    ))\n",
    "\n",
    "    # Добавляем бычий pinbar (покупка)\n",
    "    bullish_pinbars = df[df['bullish_pinbar']]\n",
    "    fig.add_trace(go.Scatter(\n",
    "        x=bullish_pinbars.index,\n",
    "        y=bullish_pinbars['low'],  # Отображаем маркер на уровне нижней тени\n",
    "        mode='markers',\n",
    "        marker=dict(color='green', size=10, symbol='triangle-up'),\n",
    "        name='Bullish Pinbar'\n",
    "    ))\n",
    "\n",
    "    # Добавляем медвежий pinbar (продажа)\n",
    "    bearish_pinbars = df[df['bearish_pinbar']]\n",
    "    fig.add_trace(go.Scatter(\n",
    "        x=bearish_pinbars.index,\n",
    "        y=bearish_pinbars['high'],  # Отображаем маркер на уровне верхней тени\n",
    "        mode='markers',\n",
    "        marker=dict(color='red', size=10, symbol='triangle-down'),\n",
    "        name='Bearish Pinbar'\n",
    "    ))\n",
    "\n",
    "    # Настройка осей и названий\n",
    "    fig.update_layout(\n",
    "        title='Candlestick Chart with Bullish and Bearish Pinbars',\n",
    "        xaxis_title='Date',\n",
    "        yaxis_title='Price',\n",
    "        xaxis_rangeslider_visible=False\n",
    "    )\n",
    "\n",
    "    # Показать график\n",
    "    fig.show()\n",
    "\n",
    "def backtest_golden_cross(df, short_window=50, long_window=200):\n",
    "    df['short_ma'] = df['close'].rolling(window=short_window).mean()\n",
    "    df['long_ma'] = df['close'].rolling(window=long_window).mean()\n",
    "\n",
    "    signals = {'date': [], 'signal': [], 'entry_price': [], 'exit_price': [], 'exit_reason': []}\n",
    "    position = None\n",
    "\n",
    "    for i in range(long_window, len(df)):\n",
    "        if position is None:\n",
    "            if df['short_ma'].iloc[i] > df['long_ma'].iloc[i]:\n",
    "                position = 'Buy'\n",
    "                signals['date'].append(df.index[i])\n",
    "                signals['signal'].append(position)\n",
    "                signals['entry_price'].append(df['close'].iloc[i])\n",
    "                signals['exit_price'].append(None)\n",
    "                signals['exit_reason'].append(None)\n",
    "        elif position == 'Buy':\n",
    "            if df['short_ma'].iloc[i] < df['long_ma'].iloc[i]:\n",
    "                position = None\n",
    "                signals['date'].append(df.index[i])\n",
    "                signals['signal'].append('Sell')\n",
    "                signals['entry_price'].append(None)\n",
    "                signals['exit_price'].append(df['close'].iloc[i])\n",
    "                signals['exit_reason'].append('Death Cross')\n",
    "\n",
    "    return pd.DataFrame(signals)\n",
    "\n",
    "def backtest_outside_bar(df):\n",
    "    results = {'date': [], 'signal': [], 'entry_price': [], 'exit_price': [], 'exit_reason': []}\n",
    "\n",
    "    for i in range(1, len(df)):\n",
    "        if df['high'].iloc[i] > df['high'].iloc[i - 1] and df['low'].iloc[i] < df['low'].iloc[i - 1]:\n",
    "            if df['close'].iloc[i] > df['open'].iloc[i]:  # Bullish outside bar\n",
    "                results['date'].append(df.index[i])\n",
    "                results['signal'].append('Buy')\n",
    "                results['entry_price'].append(df['close'].iloc[i])\n",
    "                results['exit_price'].append(None)\n",
    "                results['exit_reason'].append(None)\n",
    "            elif df['close'].iloc[i] < df['open'].iloc[i]:  # Bearish outside bar\n",
    "                results['date'].append(df.index[i])\n",
    "                results['signal'].append('Sell')\n",
    "                results['entry_price'].append(df['close'].iloc[i])\n",
    "                results['exit_price'].append(None)\n",
    "                results['exit_reason'].append(None)\n",
    "\n",
    "    return pd.DataFrame(results)"
   ]
  },
  {
   "cell_type": "code",
   "execution_count": 13,
   "metadata": {},
   "outputs": [],
   "source": [
    "PATH = 'data/binance/fut/hour'\n",
    "\n",
    "close = pd.read_csv(f'{PATH}/close.csv', index_col='openTime')\n",
    "open = pd.read_csv(f'{PATH}/open.csv', index_col='openTime')\n",
    "high = pd.read_csv(f'{PATH}/high.csv', index_col='openTime')\n",
    "low = pd.read_csv(f'{PATH}/low.csv', index_col='openTime')\n",
    "qvolume = pd.read_csv(f'{PATH}/qvolume.csv', index_col='openTime')\n",
    "bvolume = pd.read_csv(f'{PATH}/bvolume.csv', index_col='openTime')\n",
    "ntrades = pd.read_csv(f'{PATH}/ntrades.csv', index_col='openTime')\n",
    "takerbuybvolume = pd.read_csv(f'{PATH}/takerbuybvolume.csv', index_col='openTime')\n",
    "takerbuyqvolume = pd.read_csv(f'{PATH}/takerbuyqvolume.csv', index_col='openTime')\n",
    "\n",
    "close.index = pd.to_datetime(close.index)\n",
    "open.index = pd.to_datetime(open.index)\n",
    "high.index = pd.to_datetime(high.index)\n",
    "low.index = pd.to_datetime(low.index)\n",
    "qvolume.index = pd.to_datetime(qvolume.index)\n",
    "bvolume.index = pd.to_datetime(bvolume.index)"
   ]
  },
  {
   "cell_type": "code",
   "execution_count": 14,
   "metadata": {},
   "outputs": [
    {
     "data": {
      "image/png": "[encoded data removed]",
      "text/plain": [
       "<Figure size 1400x800 with 1 Axes>"
      ]
     },
     "metadata": {},
     "output_type": "display_data"
    }
   ],
   "source": [
    "# Инициализация данных\n",
    "tickers = ['BTCUSDT', 'ETHUSDT', 'SOLUSDT', 'DOGEUSDT', 'BNBUSDT', 'XRPUSDT', 'ADAUSDT', 'AVAXUSDT', 'LINKUSDT']\n",
    "\n",
    "capital_fraction = 1 / len(tickers)\n",
    "interval = 4\n",
    "\n",
    "close_resampled = close.resample(f'{interval}H').last()\n",
    "open_resampled = open.resample(f'{interval}H').first()\n",
    "high_resampled = high.resample(f'{interval}H').max()\n",
    "low_resampled = low.resample(f'{interval}H').min()\n",
    "qvolume_resampled = qvolume.resample(f'{interval}H').sum()\n",
    "bvolume_resampled = bvolume.resample(f'{interval}H').sum()\n",
    "\n",
    "# Список для хранения DataFrame каждого тикера\n",
    "ticker_pnl_dataframes = []\n",
    "\n",
    "for ticker in tickers:\n",
    "    # Создаем DataFrame с данными тикера за последний год\n",
    "    data = pd.DataFrame({\n",
    "        'close': close_resampled[ticker],\n",
    "        'open': open_resampled[ticker],\n",
    "        'high': high_resampled[ticker],\n",
    "        'low': low_resampled[ticker],\n",
    "        'qvolume': qvolume_resampled[ticker],\n",
    "        'bvolume': bvolume_resampled[ticker]\n",
    "    })\n",
    "    data = data.iloc[-int(360 * 24 / interval):]  # Используем последние 360 записей (примерно год)\n",
    "\n",
    "    # Идентифицируем pinbar свечи\n",
    "    data = identify_pinbar(data)\n",
    "\n",
    "    # Применение новой стратегии\n",
    "    filtered_backtest_results = backtest_pinbar_with_filters(data)\n",
    "    filtered_backtest_results.index = pd.to_datetime(filtered_backtest_results['date'])\n",
    "    filtered_backtest_results.drop(columns=['date'], inplace=True)\n",
    "    filtered_backtest_results.sort_index(inplace=True)\n",
    "\n",
    "    # Расчет процентного PnL и кумулятивного процентного PnL\n",
    "    filtered_backtest_results['pnl_pct'] = filtered_backtest_results.apply(\n",
    "        lambda row: ((row['exit_price'] - row['entry_price']) / row['entry_price'])\n",
    "        if row['signal'] == 'Buy' else ((row['entry_price'] - row['exit_price']) / row['entry_price']),\n",
    "        axis=1\n",
    "    ) * capital_fraction\n",
    "    filtered_backtest_results['cumulative_pnl_pct'] = filtered_backtest_results['pnl_pct'].cumsum()\n",
    "\n",
    "    # Добавляем начальные нулевые значения к кумулятивным PnL\n",
    "    initial_date = filtered_backtest_results.index[0]\n",
    "    filtered_backtest_results = pd.concat([\n",
    "        pd.DataFrame({'cumulative_pnl_pct': [0]}, index=[initial_date]),\n",
    "        filtered_backtest_results\n",
    "    ], ignore_index=False)\n",
    "\n",
    "    # Сброс и удаление дубликатов индекса перед добавлением в общий DataFrame\n",
    "    filtered_backtest_results = (\n",
    "        filtered_backtest_results[['pnl_pct']]\n",
    "        .rename(columns={'pnl_pct': ticker})\n",
    "        .reset_index()  # Сбрасываем индекс, чтобы избежать дубликатов\n",
    "        .drop_duplicates(subset='index')  # Удаляем дублирующиеся даты\n",
    "        .set_index('index')  # Снова устанавливаем индекс\n",
    "    )\n",
    "    ticker_pnl_dataframes.append(filtered_backtest_results)\n",
    "\n",
    "# Объединяем все DataFrame по дате (outer join)\n",
    "aggregate_df = pd.concat(ticker_pnl_dataframes, axis=1, join='outer').fillna(0)\n",
    "\n",
    "# Построение графиков для каждого тикера\n",
    "plt.figure(figsize=(14, 8))\n",
    "for ticker in tickers:\n",
    "    plt.plot(aggregate_df.index, aggregate_df[ticker], label=ticker)\n",
    "plt.title('Cumulative Percentage PnL for Each Ticker')\n",
    "plt.xlabel('Date')\n",
    "plt.ylabel('Cumulative PnL (%)')\n",
    "plt.legend()\n",
    "plt.grid()\n",
    "plt.tight_layout()\n",
    "plt.show()"
   ]
  },
  {
   "cell_type": "code",
   "execution_count": 15,
   "metadata": {},
   "outputs": [
    {
     "data": {
      "image/png": "[encoded data removed]",
      "text/plain": [
       "<Figure size 1300x400 with 3 Axes>"
      ]
     },
     "metadata": {},
     "output_type": "display_data"
    }
   ],
   "source": [
    "# Создаем фигуру с двумя подграфиками рядом\n",
    "fig, axes = plt.subplots(1, 3, figsize=(13, 4))\n",
    "\n",
    "# Линейный график кумулятивной суммы по строкам\n",
    "aggregate_df.sum(axis=1).cumsum().plot(ax=axes[0], color='b', linewidth=2)\n",
    "axes[0].set_title('Cumulative Sum of PnL Across Tickers', fontsize=14)\n",
    "axes[0].set_xlabel('Date', fontsize=12)\n",
    "axes[0].set_ylabel('Cumulative PnL', fontsize=12)\n",
    "axes[0].grid(True, linestyle='--', alpha=0.7)\n",
    "\n",
    "# Линейный график кумулятивной суммы по строкам\n",
    "aggregate_df.cumsum().plot(ax=axes[1], linewidth=2)\n",
    "axes[1].set_title('Cumulative Sum of PnL Across Tickers', fontsize=14)\n",
    "axes[1].set_xlabel('Date', fontsize=12)\n",
    "axes[1].set_ylabel('Cumulative PnL', fontsize=12)\n",
    "axes[1].grid(True, linestyle='--', alpha=0.7)\n",
    "\n",
    "# Гистограмма распределения PnL для каждого тикера\n",
    "aggregate_df.plot(kind='hist', bins=20, alpha=0.6, ax=axes[2], stacked=True)\n",
    "axes[2].set_title('Distribution of PnL for Each Ticker', fontsize=14)\n",
    "axes[2].set_xlabel('PnL', fontsize=12)\n",
    "axes[2].set_ylabel('Frequency', fontsize=12)\n",
    "axes[2].legend(title=\"Ticker\", fontsize=10)\n",
    "axes[2].grid(True, linestyle='--', alpha=0.7)\n",
    "\n",
    "# Настройка расстояния между графиками и отображение\n",
    "plt.tight_layout()\n",
    "plt.show()"
   ]
  },
  {
   "cell_type": "code",
   "execution_count": 16,
   "metadata": {},
   "outputs": [
    {
     "data": {
      "image/png": "[encoded data removed]",
      "text/plain": [
       "<Figure size 1600x1200 with 13 Axes>"
      ]
     },
     "metadata": {},
     "output_type": "display_data"
    }
   ],
   "source": [
    "import math\n",
    "\n",
    "# Определяем количество строк и столбцов для подграфиков\n",
    "num_tickers = len(aggregate_df.columns)\n",
    "n_cols = 3  # Число столбцов\n",
    "n_rows = math.ceil(num_tickers / n_cols)  # Число строк для размещения всех графиков\n",
    "\n",
    "# Создаем фигуру и подграфики\n",
    "fig, axes = plt.subplots(n_rows + 1, n_cols, figsize=(16, 12))  # +1 строка для кумулятивного графика\n",
    "fig.suptitle(\"Cumulative PnL and Distribution of PnL for Each Ticker\", fontsize=16)\n",
    "\n",
    "# График кумулятивной суммы PnL на первую строку, растянутую на всю ширину\n",
    "cumulative_ax = fig.add_subplot(n_rows + 1, 1, 1)\n",
    "aggregate_df.sum(axis=1).cumsum().plot(ax=cumulative_ax, color='b', linewidth=2)\n",
    "cumulative_ax.set_title('Cumulative Sum of PnL Across Tickers')\n",
    "cumulative_ax.set_xlabel('Date')\n",
    "cumulative_ax.set_ylabel('Cumulative PnL')\n",
    "cumulative_ax.grid(True, linestyle='--', alpha=0.7)\n",
    "\n",
    "# Построение гистограммы распределения PnL для каждого тикера\n",
    "for idx, column in enumerate(aggregate_df.columns):\n",
    "    row, col = divmod(idx, n_cols)\n",
    "    axes[row + 1, col].hist(aggregate_df[column][aggregate_df[column] != 0], bins=10, edgecolor='k', alpha=0.7)\n",
    "    axes[row + 1, col].set_title(column, fontsize=12)\n",
    "    axes[row + 1, col].set_xlabel('PnL')\n",
    "    axes[row + 1, col].set_ylabel('Frequency')\n",
    "    axes[row + 1, col].grid(True, linestyle='--', alpha=0.5)\n",
    "\n",
    "# Удаление пустых подграфиков, если тикеров меньше, чем подграфиков\n",
    "for ax in axes.flat:\n",
    "    if not ax.has_data():\n",
    "        ax.axis('off')\n",
    "\n",
    "# Настройка расстояния между графиками и отображение\n",
    "plt.tight_layout(rect=[0, 0, 1, 0.95])\n",
    "plt.show()"
   ]
  },
  {
   "cell_type": "code",
   "execution_count": 17,
   "metadata": {},
   "outputs": [
    {
     "data": {
      "text/plain": [
       "<Axes: xlabel='date'>"
      ]
     },
     "execution_count": 17,
     "metadata": {},
     "output_type": "execute_result"
    },
    {
     "data": {
      "image/png": "[encoded data removed]",
      "text/plain": [
       "<Figure size 640x480 with 1 Axes>"
      ]
     },
     "metadata": {},
     "output_type": "display_data"
    }
   ],
   "source": [
    "def backtest_golden_cross(df, short_window=50, long_window=200):\n",
    "    # Рассчитываем скользящие средние\n",
    "    df['short_ma'] = df['close'].rolling(window=short_window).mean()\n",
    "    df['long_ma'] = df['close'].rolling(window=long_window).mean()\n",
    "\n",
    "    # Словарь для хранения сигналов и результатов\n",
    "    signals = {\n",
    "        'date': [], 'signal': [], 'entry_price': [], 'exit_price': [],\n",
    "        'exit_reason': [], 'pnl': []\n",
    "    }\n",
    "    position = None\n",
    "    entry_price = None\n",
    "\n",
    "    for i in range(long_window, len(df)):\n",
    "        if position is None:\n",
    "            # Золотой крест - покупка\n",
    "            if df['short_ma'].iloc[i] > df['long_ma'].iloc[i]:\n",
    "                position = 'Buy'\n",
    "                entry_price = df['close'].iloc[i]\n",
    "                signals['date'].append(df.index[i])\n",
    "                signals['signal'].append(position)\n",
    "                signals['entry_price'].append(entry_price)\n",
    "                signals['exit_price'].append(None)\n",
    "                signals['exit_reason'].append(None)\n",
    "                signals['pnl'].append(0)  # Начальный PnL по позиции\n",
    "        elif position == 'Buy':\n",
    "            # Крест смерти - продажа\n",
    "            if df['short_ma'].iloc[i] < df['long_ma'].iloc[i]:\n",
    "                exit_price = df['close'].iloc[i]\n",
    "                pnl = (exit_price - entry_price) / entry_price  # Рассчитываем доходность сделки\n",
    "                signals['date'].append(df.index[i])\n",
    "                signals['signal'].append('Sell')\n",
    "                signals['entry_price'].append(None)\n",
    "                signals['exit_price'].append(exit_price)\n",
    "                signals['exit_reason'].append('Death Cross')\n",
    "                signals['pnl'].append(pnl)\n",
    "                \n",
    "                # Закрываем позицию\n",
    "                position = None\n",
    "\n",
    "    # Формируем DataFrame с результатами\n",
    "    results_df = pd.DataFrame(signals)\n",
    "    return results_df\n",
    "\n",
    "interval = 4\n",
    "\n",
    "close_resampled = close.resample(f'{interval}H').last()\n",
    "open_resampled = open.resample(f'{interval}H').first()\n",
    "high_resampled = high.resample(f'{interval}H').max()\n",
    "low_resampled = low.resample(f'{interval}H').min()\n",
    "qvolume_resampled = qvolume.resample(f'{interval}H').sum()\n",
    "bvolume_resampled = bvolume.resample(f'{interval}H').sum()\n",
    "\n",
    "all_pnl = {}\n",
    "\n",
    "for ticker in tickers:\n",
    "    data = pd.DataFrame({\n",
    "            'close': close_resampled[ticker],\n",
    "            'open': open_resampled[ticker],\n",
    "            'high': high_resampled[ticker],\n",
    "            'low': low_resampled[ticker],\n",
    "            'qvolume': qvolume_resampled[ticker],\n",
    "            'bvolume': bvolume_resampled[ticker]\n",
    "        })\n",
    "\n",
    "\n",
    "  # Применение функции и расчет кумулятивного PnL\n",
    "    results_df = backtest_golden_cross(data.iloc[int(-360 * 24 / interval):], 30, 90)\n",
    "    results_df['cumulative_pnl'] = ((1 + results_df['pnl']).cumprod() - 1) / 100  # Кумулятивный процентный PnL\n",
    "    results_df.index = pd.to_datetime(results_df['date'])\n",
    "    all_pnl[ticker] = results_df['pnl']\n",
    "\n",
    "pd.DataFrame(all_pnl).ffill().fillna(0).cumsum().mean(axis=1).plot()"
   ]
  },
  {
   "cell_type": "code",
   "execution_count": 18,
   "metadata": {},
   "outputs": [],
   "source": [
    "def backtest_golden_cross(df, short_window=50, long_window=200, tp_factor=8, sl_factor=1):\n",
    "    # Рассчитываем скользящие средние\n",
    "    df['short_ma'] = df['close'].rolling(window=short_window).mean()\n",
    "    df['long_ma'] = df['close'].rolling(window=long_window).mean()\n",
    "\n",
    "    # Словарь для хранения сигналов и результатов\n",
    "    signals = {\n",
    "        'date': [], 'signal': [], 'entry_price': [], 'exit_price': [],\n",
    "        'exit_reason': [], 'pnl': []\n",
    "    }\n",
    "    position = None\n",
    "    entry_price = None\n",
    "    take_profit = None\n",
    "    stop_loss = None\n",
    "\n",
    "    for i in range(long_window, len(df)):\n",
    "        if position is None:\n",
    "            # Золотой крест - покупка\n",
    "            if df['short_ma'].iloc[i] > df['long_ma'].iloc[i]:\n",
    "                entry_price = df['close'].iloc[i]\n",
    "                take_profit = entry_price * (1 + tp_factor / 100)  # TP на расстоянии tp_factor% от входа\n",
    "                stop_loss = entry_price * (1 - sl_factor / 100)    # SL на расстоянии sl_factor% от входа\n",
    "\n",
    "                position = 'Buy'\n",
    "                signals['date'].append(df.index[i])\n",
    "                signals['signal'].append(position)\n",
    "                signals['entry_price'].append(entry_price)\n",
    "                signals['exit_price'].append(None)\n",
    "                signals['exit_reason'].append(None)\n",
    "                signals['pnl'].append(0)  # Начальный PnL по позиции\n",
    "\n",
    "        elif position == 'Buy':\n",
    "            current_price = df['close'].iloc[i]\n",
    "\n",
    "            # Проверка условий для TP и SL\n",
    "            if current_price >= take_profit:\n",
    "                pnl = (take_profit - entry_price) / entry_price  # PnL при достижении TP\n",
    "                signals['date'].append(df.index[i])\n",
    "                signals['signal'].append('Sell')\n",
    "                signals['entry_price'].append(None)\n",
    "                signals['exit_price'].append(take_profit)\n",
    "                signals['exit_reason'].append('Take Profit')\n",
    "                signals['pnl'].append(pnl)\n",
    "\n",
    "                position = None  # Закрываем позицию\n",
    "\n",
    "            elif current_price <= stop_loss:\n",
    "                pnl = (stop_loss - entry_price) / entry_price  # PnL при достижении SL\n",
    "                signals['date'].append(df.index[i])\n",
    "                signals['signal'].append('Sell')\n",
    "                signals['entry_price'].append(None)\n",
    "                signals['exit_price'].append(stop_loss)\n",
    "                signals['exit_reason'].append('Stop Loss')\n",
    "                signals['pnl'].append(pnl)\n",
    "\n",
    "                position = None  # Закрываем позицию\n",
    "\n",
    "            # Закрытие позиции при «Кресте смерти»\n",
    "            elif df['short_ma'].iloc[i] < df['long_ma'].iloc[i]:\n",
    "                pnl = (current_price - entry_price) / entry_price  # PnL при обратном сигнале\n",
    "                signals['date'].append(df.index[i])\n",
    "                signals['signal'].append('Sell')\n",
    "                signals['entry_price'].append(None)\n",
    "                signals['exit_price'].append(current_price)\n",
    "                signals['exit_reason'].append('Death Cross')\n",
    "                signals['pnl'].append(pnl)\n",
    "\n",
    "                position = None  # Закрываем позицию\n",
    "\n",
    "    # Формируем DataFrame с результатами\n",
    "    results_df = pd.DataFrame(signals)\n",
    "    return results_df\n",
    "\n",
    "# Пример использования функции и визуализация результатов\n",
    "interval = 4\n",
    "close_resampled = close.resample(f'{interval}H').last()\n",
    "all_pnl = {}\n",
    "\n",
    "for ticker in tickers:\n",
    "    close_resampled = close.resample(f'{interval}H').last()\n",
    "    open_resampled = open.resample(f'{interval}H').first()\n",
    "    high_resampled = high.resample(f'{interval}H').max()\n",
    "    low_resampled = low.resample(f'{interval}H').min()\n",
    "    qvolume_resampled = qvolume.resample(f'{interval}H').sum()\n",
    "    bvolume_resampled = bvolume.resample(f'{interval}H').sum()\n",
    "\n",
    "    data = pd.DataFrame({\n",
    "            'close': close_resampled[ticker],\n",
    "            'open': open_resampled[ticker],\n",
    "            'high': high_resampled[ticker],\n",
    "            'low': low_resampled[ticker],\n",
    "            'qvolume': qvolume_resampled[ticker],\n",
    "            'bvolume': bvolume_resampled[ticker]\n",
    "        })\n",
    "\n",
    "    # Применение функции и расчет кумулятивного PnL\n",
    "    results_df = backtest_golden_cross(data, 30, 90, tp_factor=12, sl_factor=1)\n",
    "    results_df['cumulative_pnl'] = ((1 + results_df['pnl']).cumprod() - 1) * 100  # Кумулятивный процентный PnL\n",
    "    results_df.index = pd.to_datetime(results_df['date'])\n",
    "    all_pnl[ticker] = results_df['pnl']\n",
    "\n",
    "# # Построение графика для среднего кумулятивного PnL по всем тикерам\n",
    "# pd.DataFrame(all_pnl).ffill().fillna(0).cumsum().mean(axis=1).plot()\n",
    "# plt.title(\"Cumulative PnL with Take Profit and Stop Loss\")\n",
    "# plt.xlabel(\"Date\")\n",
    "# plt.ylabel(\"Cumulative PnL (%)\")\n",
    "# plt.grid()\n",
    "# plt.show()"
   ]
  },
  {
   "cell_type": "code",
   "execution_count": 25,
   "metadata": {},
   "outputs": [
    {
     "data": {
      "image/png": "[encoded data removed]",
      "text/plain": [
       "<Figure size 640x480 with 1 Axes>"
      ]
     },
     "metadata": {},
     "output_type": "display_data"
    }
   ],
   "source": [
    "((pd.DataFrame(all_pnl).fillna(0) + 1).iloc[-1000:].cumprod() - 1).mean(axis=1).plot(label='prod') # .iloc[-500:].cumsum().mean(axis=1).plot()\n",
    "((pd.DataFrame(all_pnl).fillna(0)).iloc[-1000:].cumsum()).mean(axis=1).plot(label='sum')\n",
    "plt.grid(True)\n",
    "plt.legend()\n",
    "plt.show()"
   ]
  },
  {
   "cell_type": "code",
   "execution_count": 52,
   "metadata": {},
   "outputs": [],
   "source": [
    "import pandas as pd\n",
    "import matplotlib.pyplot as plt\n",
    "\n",
    "def backtest_golden_cross(df, short_window=50, long_window=200, tp_factor=8, sl_factor=1):\n",
    "    # Рассчитываем скользящие средние\n",
    "    df['short_ma'] = df['close'].rolling(window=short_window).mean()\n",
    "    df['long_ma'] = df['close'].rolling(window=long_window).mean()\n",
    "\n",
    "    # Словарь для хранения сигналов и результатов\n",
    "    signals = {\n",
    "        'date': [], 'signal': [], 'entry_price': [], 'exit_price': [],\n",
    "        'exit_reason': [], 'pnl': []\n",
    "    }\n",
    "    position = None\n",
    "    entry_price = None\n",
    "    take_profit = None\n",
    "    stop_loss = None\n",
    "\n",
    "    for i in range(long_window, len(df)):\n",
    "        current_price = df['close'].iloc[i]\n",
    "\n",
    "        # Если позиция не открыта, ищем сигнал для открытия позиции\n",
    "        if position is None:\n",
    "            # Золотой крест - открываем лонг\n",
    "            if df['short_ma'].iloc[i] > df['long_ma'].iloc[i] and df['short_ma'].iloc[i - 1] <= df['long_ma'].iloc[i - 1]:\n",
    "                entry_price = current_price\n",
    "                take_profit = entry_price * (1 + tp_factor / 100)\n",
    "                stop_loss = entry_price * (1 - sl_factor / 100)\n",
    "                \n",
    "                position = 'Buy'\n",
    "                signals['date'].append(df.index[i])\n",
    "                signals['signal'].append(position)\n",
    "                signals['entry_price'].append(entry_price)\n",
    "                signals['exit_price'].append(None)\n",
    "                signals['exit_reason'].append(None)\n",
    "                signals['pnl'].append(0)  # Начальный PnL по позиции\n",
    "\n",
    "            # Крест смерти - открываем шорт\n",
    "            elif df['short_ma'].iloc[i] < df['long_ma'].iloc[i] and df['short_ma'].iloc[i - 1] >= df['long_ma'].iloc[i - 1]:\n",
    "                entry_price = current_price\n",
    "                take_profit = entry_price * (1 - tp_factor / 100)\n",
    "                stop_loss = entry_price * (1 + sl_factor / 100)\n",
    "                \n",
    "                position = 'Sell'\n",
    "                signals['date'].append(df.index[i])\n",
    "                signals['signal'].append(position)\n",
    "                signals['entry_price'].append(entry_price)\n",
    "                signals['exit_price'].append(None)\n",
    "                signals['exit_reason'].append(None)\n",
    "                signals['pnl'].append(0)  # Начальный PnL по позиции\n",
    "\n",
    "        # Если позиция открыта, проверяем условия для закрытия\n",
    "        elif position == 'Buy':\n",
    "            # Проверка TP и SL для лонга\n",
    "            if current_price >= take_profit:\n",
    "                pnl = (take_profit - entry_price) / entry_price\n",
    "                signals['date'].append(df.index[i])\n",
    "                signals['signal'].append('Sell')\n",
    "                signals['entry_price'].append(None)\n",
    "                signals['exit_price'].append(take_profit)\n",
    "                signals['exit_reason'].append('Take Profit')\n",
    "                signals['pnl'].append(pnl)\n",
    "                position = None  # Закрываем позицию\n",
    "\n",
    "            elif current_price <= stop_loss:\n",
    "                pnl = (stop_loss - entry_price) / entry_price\n",
    "                signals['date'].append(df.index[i])\n",
    "                signals['signal'].append('Sell')\n",
    "                signals['entry_price'].append(None)\n",
    "                signals['exit_price'].append(stop_loss)\n",
    "                signals['exit_reason'].append('Stop Loss')\n",
    "                signals['pnl'].append(pnl)\n",
    "                position = None  # Закрываем позицию\n",
    "\n",
    "        elif position == 'Sell':\n",
    "            # Проверка TP и SL для шорта\n",
    "            if current_price <= take_profit:\n",
    "                pnl = (entry_price - take_profit) / entry_price\n",
    "                signals['date'].append(df.index[i])\n",
    "                signals['signal'].append('Buy')\n",
    "                signals['entry_price'].append(None)\n",
    "                signals['exit_price'].append(take_profit)\n",
    "                signals['exit_reason'].append('Take Profit')\n",
    "                signals['pnl'].append(pnl)\n",
    "                position = None  # Закрываем позицию\n",
    "\n",
    "            elif current_price >= stop_loss:\n",
    "                pnl = (entry_price - stop_loss) / entry_price\n",
    "                signals['date'].append(df.index[i])\n",
    "                signals['signal'].append('Buy')\n",
    "                signals['entry_price'].append(None)\n",
    "                signals['exit_price'].append(stop_loss)\n",
    "                signals['exit_reason'].append('Stop Loss')\n",
    "                signals['pnl'].append(pnl)\n",
    "                position = None  # Закрываем позицию\n",
    "\n",
    "    # Формируем DataFrame с результатами\n",
    "    results_df = pd.DataFrame(signals)\n",
    "    return results_df\n",
    "\n",
    "# Пример использования функции и визуализация результатов\n",
    "interval = 4\n",
    "close_resampled = close.resample(f'{interval}H').last()\n",
    "all_pnl = {}\n",
    "\n",
    "for ticker in tickers:\n",
    "    close_resampled = close.resample(f'{interval}H').last()\n",
    "    open_resampled = open.resample(f'{interval}H').first()\n",
    "    high_resampled = high.resample(f'{interval}H').max()\n",
    "    low_resampled = low.resample(f'{interval}H').min()\n",
    "    qvolume_resampled = qvolume.resample(f'{interval}H').sum()\n",
    "    bvolume_resampled = bvolume.resample(f'{interval}H').sum()\n",
    "\n",
    "    data = pd.DataFrame({\n",
    "            'close': close_resampled[ticker],\n",
    "            'open': open_resampled[ticker],\n",
    "            'high': high_resampled[ticker],\n",
    "            'low': low_resampled[ticker],\n",
    "            'qvolume': qvolume_resampled[ticker],\n",
    "            'bvolume': bvolume_resampled[ticker]\n",
    "        })\n",
    "\n",
    "    # Применение функции и расчет кумулятивного PnL\n",
    "    results_df = backtest_golden_cross(data, 30, 90, tp_factor=15, sl_factor=1)\n",
    "    results_df['cumulative_pnl'] = ((1 + results_df['pnl']).cumprod() - 1) * 100  # Кумулятивный процентный PnL\n",
    "    results_df.index = pd.to_datetime(results_df['date'])\n",
    "    all_pnl[ticker] = results_df['pnl']"
   ]
  },
  {
   "cell_type": "code",
   "execution_count": 53,
   "metadata": {},
   "outputs": [
    {
     "data": {
      "text/plain": [
       "<Axes: xlabel='date'>"
      ]
     },
     "execution_count": 53,
     "metadata": {},
     "output_type": "execute_result"
    },
    {
     "data": {
      "image/png": "[encoded data removed]",
      "text/plain": [
       "<Figure size 640x480 with 1 Axes>"
      ]
     },
     "metadata": {},
     "output_type": "display_data"
    }
   ],
   "source": [
    "pd.DataFrame(all_pnl).fillna(0).iloc[-200:].cumsum().mean(axis=1).plot()"
   ]
  },
  {
   "cell_type": "code",
   "execution_count": 221,
   "metadata": {},
   "outputs": [],
   "source": [
    "def backtest_golden_cross(df, short_window=50, long_window=200, tp_factor=8, sl_factor=1):\n",
    "    # Рассчитываем скользящие средние\n",
    "    df['short_ma'] = df['close'].rolling(window=short_window).mean()\n",
    "    df['long_ma'] = df['close'].rolling(window=long_window).mean()\n",
    "\n",
    "    # Словарь для хранения сигналов и результатов\n",
    "    signals = {\n",
    "        'date': [], 'signal': [], 'entry_price': [], 'exit_price': [],\n",
    "        'exit_reason': [], 'pnl': []\n",
    "    }\n",
    "    position = None\n",
    "    entry_price = None\n",
    "    take_profit = None\n",
    "    stop_loss = None\n",
    "\n",
    "    for i in range(long_window, len(df)):\n",
    "        current_price = df['close'].iloc[i]\n",
    "\n",
    "        # Если позиция не открыта, ищем сигнал для открытия позиции\n",
    "        if position is None:\n",
    "            # Золотой крест - открываем лонг\n",
    "            if df['short_ma'].iloc[i] > df['long_ma'].iloc[i] and df['short_ma'].iloc[i - 1] <= df['long_ma'].iloc[i - 1]:\n",
    "                entry_price = current_price\n",
    "                take_profit = entry_price * (1 + tp_factor / 100)\n",
    "                stop_loss = entry_price * (1 - sl_factor / 100)\n",
    "                \n",
    "                position = 'Buy'\n",
    "                signals['date'].append(df.index[i])\n",
    "                signals['signal'].append(position)\n",
    "                signals['entry_price'].append(entry_price)\n",
    "                signals['exit_price'].append(None)\n",
    "                signals['exit_reason'].append(None)\n",
    "                signals['pnl'].append(0)  # Начальный PnL по позиции\n",
    "\n",
    "            # Крест смерти - открываем шорт\n",
    "            elif df['short_ma'].iloc[i] < df['long_ma'].iloc[i] and df['short_ma'].iloc[i - 1] >= df['long_ma'].iloc[i - 1]:\n",
    "                entry_price = current_price\n",
    "                take_profit = entry_price * (1 - tp_factor / 100)\n",
    "                stop_loss = entry_price * (1 + sl_factor / 100)\n",
    "                \n",
    "                position = 'Sell'\n",
    "                signals['date'].append(df.index[i])\n",
    "                signals['signal'].append(position)\n",
    "                signals['entry_price'].append(entry_price)\n",
    "                signals['exit_price'].append(None)\n",
    "                signals['exit_reason'].append(None)\n",
    "                signals['pnl'].append(0)  # Начальный PnL по позиции\n",
    "\n",
    "        # Если позиция открыта, проверяем условия для закрытия и смены позиции\n",
    "        elif position == 'Buy':\n",
    "            # Проверка TP и SL для лонга\n",
    "            if current_price >= take_profit:\n",
    "                pnl = (take_profit - entry_price) / entry_price\n",
    "                signals['date'].append(df.index[i])\n",
    "                signals['signal'].append('Sell')\n",
    "                signals['entry_price'].append(None)\n",
    "                signals['exit_price'].append(take_profit)\n",
    "                signals['exit_reason'].append('Take Profit')\n",
    "                signals['pnl'].append(pnl)\n",
    "                position = None  # Закрываем позицию\n",
    "\n",
    "            elif current_price <= stop_loss:\n",
    "                pnl = (stop_loss - entry_price) / entry_price\n",
    "                signals['date'].append(df.index[i])\n",
    "                signals['signal'].append('Sell')\n",
    "                signals['entry_price'].append(None)\n",
    "                signals['exit_price'].append(stop_loss)\n",
    "                signals['exit_reason'].append('Stop Loss')\n",
    "                signals['pnl'].append(pnl)\n",
    "                position = None  # Закрываем позицию\n",
    "\n",
    "            # Проверка на сигнал на шорт (Крест смерти) - закрываем лонг и открываем шорт\n",
    "            elif df['short_ma'].iloc[i] < df['long_ma'].iloc[i] and df['short_ma'].iloc[i - 1] >= df['long_ma'].iloc[i - 1]:\n",
    "                pnl = (current_price - entry_price) / entry_price\n",
    "                signals['date'].append(df.index[i])\n",
    "                signals['signal'].append('Sell')\n",
    "                signals['entry_price'].append(None)\n",
    "                signals['exit_price'].append(current_price)\n",
    "                signals['exit_reason'].append('Death Cross')\n",
    "                signals['pnl'].append(pnl)\n",
    "                \n",
    "                # Устанавливаем параметры для новой позиции (шорт) без добавления новой записи\n",
    "                entry_price = current_price\n",
    "                take_profit = entry_price * (1 - tp_factor / 100)\n",
    "                stop_loss = entry_price * (1 + sl_factor / 100)\n",
    "                \n",
    "                position = 'Sell'\n",
    "\n",
    "        elif position == 'Sell':\n",
    "            # Проверка TP и SL для шорта\n",
    "            if current_price <= take_profit:\n",
    "                pnl = (entry_price - take_profit) / entry_price\n",
    "                signals['date'].append(df.index[i])\n",
    "                signals['signal'].append('Buy')\n",
    "                signals['entry_price'].append(None)\n",
    "                signals['exit_price'].append(take_profit)\n",
    "                signals['exit_reason'].append('Take Profit')\n",
    "                signals['pnl'].append(pnl)\n",
    "                position = None  # Закрываем позицию\n",
    "\n",
    "            elif current_price >= stop_loss:\n",
    "                pnl = (entry_price - stop_loss) / entry_price\n",
    "                signals['date'].append(df.index[i])\n",
    "                signals['signal'].append('Buy')\n",
    "                signals['entry_price'].append(None)\n",
    "                signals['exit_price'].append(stop_loss)\n",
    "                signals['exit_reason'].append('Stop Loss')\n",
    "                signals['pnl'].append(pnl)\n",
    "                position = None  # Закрываем позицию\n",
    "\n",
    "            # Проверка на сигнал на лонг (Золотой крест) - закрываем шорт и открываем лонг\n",
    "            elif df['short_ma'].iloc[i] > df['long_ma'].iloc[i] and df['short_ma'].iloc[i - 1] <= df['long_ma'].iloc[i - 1]:\n",
    "                pnl = (entry_price - current_price) / entry_price\n",
    "                signals['date'].append(df.index[i])\n",
    "                signals['signal'].append('Buy')\n",
    "                signals['entry_price'].append(None)\n",
    "                signals['exit_price'].append(current_price)\n",
    "                signals['exit_reason'].append('Golden Cross')\n",
    "                signals['pnl'].append(pnl)\n",
    "                \n",
    "                # Устанавливаем параметры для новой позиции (лонг) без добавления новой записи\n",
    "                entry_price = current_price\n",
    "                take_profit = entry_price * (1 + tp_factor / 100)\n",
    "                stop_loss = entry_price * (1 - sl_factor / 100)\n",
    "                \n",
    "                position = 'Buy'\n",
    "\n",
    "    # Формируем DataFrame с результатами\n",
    "    results_df = pd.DataFrame(signals)\n",
    "    return results_df\n",
    "\n",
    "# Проверим стратегию на данных\n",
    "interval = 4\n",
    "close_resampled = close.resample(f'{interval}H').last()\n",
    "all_pnl = {}\n",
    "\n",
    "for ticker in tickers:\n",
    "    close_resampled = close.resample(f'{interval}H').last().sort_index()\n",
    "    open_resampled = open.resample(f'{interval}H').first().sort_index()\n",
    "    high_resampled = high.resample(f'{interval}H').max().sort_index()\n",
    "    low_resampled = low.resample(f'{interval}H').min().sort_index()\n",
    "    qvolume_resampled = qvolume.resample(f'{interval}H').sum().sort_index()\n",
    "    bvolume_resampled = bvolume.resample(f'{interval}H').sum().sort_index()\n",
    "\n",
    "    data = pd.DataFrame({\n",
    "            'close': close_resampled[ticker],\n",
    "            'open': open_resampled[ticker],\n",
    "            'high': high_resampled[ticker],\n",
    "            'low': low_resampled[ticker],\n",
    "            'qvolume': qvolume_resampled[ticker],\n",
    "            'bvolume': bvolume_resampled[ticker]\n",
    "        })\n",
    "\n",
    "    # Применение функции и расчет кумулятивного PnL\n",
    "    results_df = backtest_golden_cross(data, 30, 90, tp_factor=20, sl_factor=2)\n",
    "    results_df['cumulative_pnl'] = ((1 + results_df['pnl']).cumprod() - 1) * 100  # Кумулятивный процентный PnL\n",
    "    results_df.index = pd.to_datetime(results_df['date'])\n",
    "    all_pnl[ticker] = results_df['pnl']"
   ]
  },
  {
   "cell_type": "code",
   "execution_count": 223,
   "metadata": {},
   "outputs": [
    {
     "data": {
      "application/vnd.plotly.v1+json": {
       "config": {
        "plotlyServerURL": "https://plot.ly"
       },
       "data": [
        {
         "mode": "lines",
         "name": "Cumulative PnL",
         "type": "scatter",
         "x": [
          "2023-12-24T04:00:00+00:00",
          "2023-12-25T08:00:00+00:00",
          "2023-12-26T04:00:00+00:00",
          "2023-12-26T08:00:00+00:00",
          "2023-12-26T12:00:00+00:00",
          "2023-12-29T16:00:00+00:00",
          "2023-12-30T04:00:00+00:00",
          "2023-12-30T16:00:00+00:00",
          "2024-01-01T16:00:00+00:00",
          "2024-01-02T16:00:00+00:00",
          "2024-01-03T08:00:00+00:00",
          "2024-01-03T12:00:00+00:00",
          "2024-01-03T16:00:00+00:00",
          "2024-01-04T20:00:00+00:00",
          "2024-01-05T12:00:00+00:00",
          "2024-01-08T00:00:00+00:00",
          "2024-01-08T12:00:00+00:00",
          "2024-01-09T04:00:00+00:00",
          "2024-01-10T20:00:00+00:00",
          "2024-01-11T00:00:00+00:00",
          "2024-01-11T08:00:00+00:00",
          "2024-01-12T20:00:00+00:00",
          "2024-01-14T08:00:00+00:00",
          "2024-01-14T20:00:00+00:00",
          "2024-01-15T08:00:00+00:00",
          "2024-01-15T12:00:00+00:00",
          "2024-01-16T04:00:00+00:00",
          "2024-01-16T12:00:00+00:00",
          "2024-01-17T16:00:00+00:00",
          "2024-01-18T12:00:00+00:00",
          "2024-01-18T16:00:00+00:00",
          "2024-01-19T04:00:00+00:00",
          "2024-01-21T20:00:00+00:00",
          "2024-01-22T00:00:00+00:00",
          "2024-01-22T12:00:00+00:00",
          "2024-01-23T08:00:00+00:00",
          "2024-01-24T20:00:00+00:00",
          "2024-01-25T00:00:00+00:00",
          "2024-01-25T20:00:00+00:00",
          "2024-01-26T08:00:00+00:00",
          "2024-01-27T16:00:00+00:00",
          "2024-01-28T00:00:00+00:00",
          "2024-01-29T16:00:00+00:00",
          "2024-01-29T20:00:00+00:00",
          "2024-01-30T00:00:00+00:00",
          "2024-01-31T00:00:00+00:00",
          "2024-01-31T04:00:00+00:00",
          "2024-01-31T08:00:00+00:00",
          "2024-01-31T20:00:00+00:00",
          "2024-02-01T00:00:00+00:00",
          "2024-02-02T12:00:00+00:00",
          "2024-02-03T20:00:00+00:00",
          "2024-02-06T16:00:00+00:00",
          "2024-02-10T00:00:00+00:00",
          "2024-02-11T04:00:00+00:00",
          "2024-02-12T08:00:00+00:00",
          "2024-02-14T08:00:00+00:00",
          "2024-02-21T12:00:00+00:00",
          "2024-02-22T00:00:00+00:00",
          "2024-02-22T04:00:00+00:00",
          "2024-02-25T08:00:00+00:00",
          "2024-02-26T16:00:00+00:00",
          "2024-02-27T08:00:00+00:00",
          "2024-02-27T20:00:00+00:00",
          "2024-02-28T08:00:00+00:00",
          "2024-02-28T16:00:00+00:00",
          "2024-02-29T08:00:00+00:00",
          "2024-02-29T16:00:00+00:00",
          "2024-02-29T20:00:00+00:00",
          "2024-03-01T04:00:00+00:00",
          "2024-03-02T00:00:00+00:00",
          "2024-03-05T16:00:00+00:00",
          "2024-03-16T16:00:00+00:00",
          "2024-03-16T20:00:00+00:00",
          "2024-03-17T00:00:00+00:00",
          "2024-03-17T12:00:00+00:00",
          "2024-03-17T16:00:00+00:00",
          "2024-03-17T20:00:00+00:00",
          "2024-03-18T12:00:00+00:00",
          "2024-03-18T20:00:00+00:00",
          "2024-03-19T00:00:00+00:00",
          "2024-03-20T20:00:00+00:00",
          "2024-03-21T12:00:00+00:00",
          "2024-03-22T16:00:00+00:00",
          "2024-03-23T12:00:00+00:00",
          "2024-03-25T08:00:00+00:00",
          "2024-03-25T20:00:00+00:00",
          "2024-03-26T04:00:00+00:00",
          "2024-03-27T04:00:00+00:00",
          "2024-03-27T12:00:00+00:00",
          "2024-03-27T20:00:00+00:00",
          "2024-03-28T00:00:00+00:00",
          "2024-03-28T08:00:00+00:00",
          "2024-03-29T00:00:00+00:00",
          "2024-03-29T12:00:00+00:00",
          "2024-03-29T16:00:00+00:00",
          "2024-04-01T04:00:00+00:00",
          "2024-04-02T00:00:00+00:00",
          "2024-04-02T08:00:00+00:00",
          "2024-04-02T16:00:00+00:00"
         ],
         "xaxis": "x",
         "y": [
          0,
          -0.0018632776107859262,
          -0.006307722055230374,
          0.013692277944769628,
          0.011470055722547409,
          0.011470055722547409,
          0.011470055722547409,
          0.009247833500325193,
          0.00702561127810296,
          0.00702561127810296,
          0.00702561127810296,
          0.00702561127810296,
          0.004803389055880734,
          0.004803389055880734,
          0.004803389055880734,
          0.049247833500325175,
          0.047025611278102945,
          0.047025611278102945,
          0.04480338905588071,
          0.04480338905588071,
          0.04035894461143628,
          0.03813672238921406,
          0.03813672238921406,
          0.03591450016699183,
          0.03591450016699183,
          0.031470055722547394,
          0.031470055722547394,
          0.031470055722547394,
          0.031470055722547394,
          0.03856698356250929,
          0.03634476134028706,
          0.03634476134028706,
          0.03634476134028706,
          0.034122539118064836,
          0.034122539118064836,
          0.05412253911806483,
          0.05412253911806483,
          0.05412253911806483,
          0.05412253911806483,
          0.04967809467362037,
          0.047455872451398144,
          0.04523365022917593,
          0.04523365022917593,
          0.04370411242906139,
          0.04370411242906139,
          0.041481890206839164,
          0.047587571768910195,
          0.04536534954668797,
          0.04314312732446576,
          0.040920905102243534,
          0.06314312732446575,
          0.06709177344958246,
          0.06709177344958246,
          0.06709177344958246,
          0.06709177344958246,
          0.06486955122736024,
          0.08709177344958245,
          0.10931399567180466,
          0.10931399567180466,
          0.10709177344958244,
          0.11056136719169701,
          0.10611692274725257,
          0.10389470052503036,
          0.10319645151869242,
          0.10319645151869242,
          0.1009742292964702,
          0.1009742292964702,
          0.1009742292964702,
          0.09652978485202574,
          0.09652978485202574,
          0.11875200707424795,
          0.11652978485202573,
          0.11652978485202573,
          0.11652978485202573,
          0.1143075626298035,
          0.1143075626298035,
          0.11208534040758128,
          0.11208534040758128,
          0.11208534040758128,
          0.10986311818535907,
          0.10986311818535907,
          0.10764089596313685,
          0.10541867374091464,
          0.10541867374091464,
          0.10319645151869242,
          0.10319645151869242,
          0.10319645151869242,
          0.10319645151869242,
          0.1009742292964702,
          0.1009742292964702,
          0.1009742292964702,
          0.1009742292964702,
          0.1231964515186924,
          0.12569501121373464,
          0.12347278899151243,
          0.12347278899151243,
          0.11902834454706797,
          0.11458390010262352,
          0.11458390010262352,
          0.11458390010262352
         ],
         "yaxis": "y"
        },
        {
         "mode": "lines",
         "name": "Drawdown",
         "type": "scatter",
         "x": [
          "2023-12-24T04:00:00+00:00",
          "2023-12-25T08:00:00+00:00",
          "2023-12-26T04:00:00+00:00",
          "2023-12-26T08:00:00+00:00",
          "2023-12-26T12:00:00+00:00",
          "2023-12-29T16:00:00+00:00",
          "2023-12-30T04:00:00+00:00",
          "2023-12-30T16:00:00+00:00",
          "2024-01-01T16:00:00+00:00",
          "2024-01-02T16:00:00+00:00",
          "2024-01-03T08:00:00+00:00",
          "2024-01-03T12:00:00+00:00",
          "2024-01-03T16:00:00+00:00",
          "2024-01-04T20:00:00+00:00",
          "2024-01-05T12:00:00+00:00",
          "2024-01-08T00:00:00+00:00",
          "2024-01-08T12:00:00+00:00",
          "2024-01-09T04:00:00+00:00",
          "2024-01-10T20:00:00+00:00",
          "2024-01-11T00:00:00+00:00",
          "2024-01-11T08:00:00+00:00",
          "2024-01-12T20:00:00+00:00",
          "2024-01-14T08:00:00+00:00",
          "2024-01-14T20:00:00+00:00",
          "2024-01-15T08:00:00+00:00",
          "2024-01-15T12:00:00+00:00",
          "2024-01-16T04:00:00+00:00",
          "2024-01-16T12:00:00+00:00",
          "2024-01-17T16:00:00+00:00",
          "2024-01-18T12:00:00+00:00",
          "2024-01-18T16:00:00+00:00",
          "2024-01-19T04:00:00+00:00",
          "2024-01-21T20:00:00+00:00",
          "2024-01-22T00:00:00+00:00",
          "2024-01-22T12:00:00+00:00",
          "2024-01-23T08:00:00+00:00",
          "2024-01-24T20:00:00+00:00",
          "2024-01-25T00:00:00+00:00",
          "2024-01-25T20:00:00+00:00",
          "2024-01-26T08:00:00+00:00",
          "2024-01-27T16:00:00+00:00",
          "2024-01-28T00:00:00+00:00",
          "2024-01-29T16:00:00+00:00",
          "2024-01-29T20:00:00+00:00",
          "2024-01-30T00:00:00+00:00",
          "2024-01-31T00:00:00+00:00",
          "2024-01-31T04:00:00+00:00",
          "2024-01-31T08:00:00+00:00",
          "2024-01-31T20:00:00+00:00",
          "2024-02-01T00:00:00+00:00",
          "2024-02-02T12:00:00+00:00",
          "2024-02-03T20:00:00+00:00",
          "2024-02-06T16:00:00+00:00",
          "2024-02-10T00:00:00+00:00",
          "2024-02-11T04:00:00+00:00",
          "2024-02-12T08:00:00+00:00",
          "2024-02-14T08:00:00+00:00",
          "2024-02-21T12:00:00+00:00",
          "2024-02-22T00:00:00+00:00",
          "2024-02-22T04:00:00+00:00",
          "2024-02-25T08:00:00+00:00",
          "2024-02-26T16:00:00+00:00",
          "2024-02-27T08:00:00+00:00",
          "2024-02-27T20:00:00+00:00",
          "2024-02-28T08:00:00+00:00",
          "2024-02-28T16:00:00+00:00",
          "2024-02-29T08:00:00+00:00",
          "2024-02-29T16:00:00+00:00",
          "2024-02-29T20:00:00+00:00",
          "2024-03-01T04:00:00+00:00",
          "2024-03-02T00:00:00+00:00",
          "2024-03-05T16:00:00+00:00",
          "2024-03-16T16:00:00+00:00",
          "2024-03-16T20:00:00+00:00",
          "2024-03-17T00:00:00+00:00",
          "2024-03-17T12:00:00+00:00",
          "2024-03-17T16:00:00+00:00",
          "2024-03-17T20:00:00+00:00",
          "2024-03-18T12:00:00+00:00",
          "2024-03-18T20:00:00+00:00",
          "2024-03-19T00:00:00+00:00",
          "2024-03-20T20:00:00+00:00",
          "2024-03-21T12:00:00+00:00",
          "2024-03-22T16:00:00+00:00",
          "2024-03-23T12:00:00+00:00",
          "2024-03-25T08:00:00+00:00",
          "2024-03-25T20:00:00+00:00",
          "2024-03-26T04:00:00+00:00",
          "2024-03-27T04:00:00+00:00",
          "2024-03-27T12:00:00+00:00",
          "2024-03-27T20:00:00+00:00",
          "2024-03-28T00:00:00+00:00",
          "2024-03-28T08:00:00+00:00",
          "2024-03-29T00:00:00+00:00",
          "2024-03-29T12:00:00+00:00",
          "2024-03-29T16:00:00+00:00",
          "2024-04-01T04:00:00+00:00",
          "2024-04-02T00:00:00+00:00",
          "2024-04-02T08:00:00+00:00",
          "2024-04-02T16:00:00+00:00"
         ],
         "xaxis": "x2",
         "y": [
          0,
          0.0018632776107859262,
          0.006307722055230374,
          0,
          0.0021922059293257193,
          0.0021922059293257193,
          0.0021922059293257193,
          0.004384411858651435,
          0.006576617787977169,
          0.006576617787977169,
          0.006576617787977169,
          0.006576617787977169,
          0.008768823717302894,
          0.008768823717302894,
          0.008768823717302894,
          0,
          0.0021179192858648307,
          0.0021179192858648307,
          0.0042358385717296675,
          0.0042358385717296675,
          0.008471677143459302,
          0.010589596429324121,
          0.010589596429324121,
          0.01270751571518895,
          0.01270751571518895,
          0.016943354286918594,
          0.016943354286918594,
          0.016943354286918594,
          0.016943354286918594,
          0.010179530132727765,
          0.012297449418592597,
          0.012297449418592597,
          0.012297449418592597,
          0.01441536870445742,
          0.01441536870445742,
          0,
          0,
          0,
          0,
          0.0042162502740553534,
          0.00632437541108302,
          0.00843250054811068,
          0.00843250054811068,
          0.00988350623611564,
          0.00988350623611564,
          0.011991631373143307,
          0.006199438022283577,
          0.008307563159311243,
          0.010415688296338897,
          0.012523813433366572,
          0,
          0,
          0,
          0,
          0,
          0.0020825033774165983,
          0,
          0,
          0,
          0.0020032400482574244,
          0,
          0.004001980057782145,
          0.006002970086673205,
          0.0066317052713876,
          0.0066317052713876,
          0.008632695300278673,
          0.008632695300278673,
          0.008632695300278673,
          0.012634675358060829,
          0.012634675358060829,
          0,
          0.0019863403222254426,
          0.0019863403222254426,
          0.0019863403222254426,
          0.003972680644450885,
          0.003972680644450885,
          0.005959020966676328,
          0.005959020966676328,
          0.005959020966676328,
          0.007945361288901758,
          0.007945361288901758,
          0.009931701611127202,
          0.011918041933352632,
          0.011918041933352632,
          0.013904382255578074,
          0.013904382255578074,
          0.013904382255578074,
          0.013904382255578074,
          0.015890722577803516,
          0.015890722577803516,
          0.015890722577803516,
          0.015890722577803516,
          0,
          0,
          0.0019740890739368103,
          0.0019740890739368103,
          0.005922267221810468,
          0.009870445369684113,
          0.009870445369684113,
          0.009870445369684113
         ],
         "yaxis": "y2"
        }
       ],
       "layout": {
        "annotations": [
         {
          "font": {
           "size": 16
          },
          "showarrow": false,
          "text": "Cumulative PnL",
          "x": 0.225,
          "xanchor": "center",
          "xref": "paper",
          "y": 1,
          "yanchor": "bottom",
          "yref": "paper"
         },
         {
          "font": {
           "size": 16
          },
          "showarrow": false,
          "text": "Drawdown",
          "x": 0.775,
          "xanchor": "center",
          "xref": "paper",
          "y": 1,
          "yanchor": "bottom",
          "yref": "paper"
         }
        ],
        "hovermode": "x unified",
        "template": {
         "data": {
          "bar": [
           {
            "error_x": {
             "color": "#2a3f5f"
            },
            "error_y": {
             "color": "#2a3f5f"
            },
            "marker": {
             "line": {
              "color": "white",
              "width": 0.5
             },
             "pattern": {
              "fillmode": "overlay",
              "size": 10,
              "solidity": 0.2
             }
            },
            "type": "bar"
           }
          ],
          "barpolar": [
           {
            "marker": {
             "line": {
              "color": "white",
              "width": 0.5
             },
             "pattern": {
              "fillmode": "overlay",
              "size": 10,
              "solidity": 0.2
             }
            },
            "type": "barpolar"
           }
          ],
          "carpet": [
           {
            "aaxis": {
             "endlinecolor": "#2a3f5f",
             "gridcolor": "#C8D4E3",
             "linecolor": "#C8D4E3",
             "minorgridcolor": "#C8D4E3",
             "startlinecolor": "#2a3f5f"
            },
            "baxis": {
             "endlinecolor": "#2a3f5f",
             "gridcolor": "#C8D4E3",
             "linecolor": "#C8D4E3",
             "minorgridcolor": "#C8D4E3",
             "startlinecolor": "#2a3f5f"
            },
            "type": "carpet"
           }
          ],
          "choropleth": [
           {
            "colorbar": {
             "outlinewidth": 0,
             "ticks": ""
            },
            "type": "choropleth"
           }
          ],
          "contour": [
           {
            "colorbar": {
             "outlinewidth": 0,
             "ticks": ""
            },
            "colorscale": [
             [
              0,
              "#0d0887"
             ],
             [
              0.1111111111111111,
              "#46039f"
             ],
             [
              0.2222222222222222,
              "#7201a8"
             ],
             [
              0.3333333333333333,
              "#9c179e"
             ],
             [
              0.4444444444444444,
              "#bd3786"
             ],
             [
              0.5555555555555556,
              "#d8576b"
             ],
             [
              0.6666666666666666,
              "#ed7953"
             ],
             [
              0.7777777777777778,
              "#fb9f3a"
             ],
             [
              0.8888888888888888,
              "#fdca26"
             ],
             [
              1,
              "#f0f921"
             ]
            ],
            "type": "contour"
           }
          ],
          "contourcarpet": [
           {
            "colorbar": {
             "outlinewidth": 0,
             "ticks": ""
            },
            "type": "contourcarpet"
           }
          ],
          "heatmap": [
           {
            "colorbar": {
             "outlinewidth": 0,
             "ticks": ""
            },
            "colorscale": [
             [
              0,
              "#0d0887"
             ],
             [
              0.1111111111111111,
              "#46039f"
             ],
             [
              0.2222222222222222,
              "#7201a8"
             ],
             [
              0.3333333333333333,
              "#9c179e"
             ],
             [
              0.4444444444444444,
              "#bd3786"
             ],
             [
              0.5555555555555556,
              "#d8576b"
             ],
             [
              0.6666666666666666,
              "#ed7953"
             ],
             [
              0.7777777777777778,
              "#fb9f3a"
             ],
             [
              0.8888888888888888,
              "#fdca26"
             ],
             [
              1,
              "#f0f921"
             ]
            ],
            "type": "heatmap"
           }
          ],
          "heatmapgl": [
           {
            "colorbar": {
             "outlinewidth": 0,
             "ticks": ""
            },
            "colorscale": [
             [
              0,
              "#0d0887"
             ],
             [
              0.1111111111111111,
              "#46039f"
             ],
             [
              0.2222222222222222,
              "#7201a8"
             ],
             [
              0.3333333333333333,
              "#9c179e"
             ],
             [
              0.4444444444444444,
              "#bd3786"
             ],
             [
              0.5555555555555556,
              "#d8576b"
             ],
             [
              0.6666666666666666,
              "#ed7953"
             ],
             [
              0.7777777777777778,
              "#fb9f3a"
             ],
             [
              0.8888888888888888,
              "#fdca26"
             ],
             [
              1,
              "#f0f921"
             ]
            ],
            "type": "heatmapgl"
           }
          ],
          "histogram": [
           {
            "marker": {
             "pattern": {
              "fillmode": "overlay",
              "size": 10,
              "solidity": 0.2
             }
            },
            "type": "histogram"
           }
          ],
          "histogram2d": [
           {
            "colorbar": {
             "outlinewidth": 0,
             "ticks": ""
            },
            "colorscale": [
             [
              0,
              "#0d0887"
             ],
             [
              0.1111111111111111,
              "#46039f"
             ],
             [
              0.2222222222222222,
              "#7201a8"
             ],
             [
              0.3333333333333333,
              "#9c179e"
             ],
             [
              0.4444444444444444,
              "#bd3786"
             ],
             [
              0.5555555555555556,
              "#d8576b"
             ],
             [
              0.6666666666666666,
              "#ed7953"
             ],
             [
              0.7777777777777778,
              "#fb9f3a"
             ],
             [
              0.8888888888888888,
              "#fdca26"
             ],
             [
              1,
              "#f0f921"
             ]
            ],
            "type": "histogram2d"
           }
          ],
          "histogram2dcontour": [
           {
            "colorbar": {
             "outlinewidth": 0,
             "ticks": ""
            },
            "colorscale": [
             [
              0,
              "#0d0887"
             ],
             [
              0.1111111111111111,
              "#46039f"
             ],
             [
              0.2222222222222222,
              "#7201a8"
             ],
             [
              0.3333333333333333,
              "#9c179e"
             ],
             [
              0.4444444444444444,
              "#bd3786"
             ],
             [
              0.5555555555555556,
              "#d8576b"
             ],
             [
              0.6666666666666666,
              "#ed7953"
             ],
             [
              0.7777777777777778,
              "#fb9f3a"
             ],
             [
              0.8888888888888888,
              "#fdca26"
             ],
             [
              1,
              "#f0f921"
             ]
            ],
            "type": "histogram2dcontour"
           }
          ],
          "mesh3d": [
           {
            "colorbar": {
             "outlinewidth": 0,
             "ticks": ""
            },
            "type": "mesh3d"
           }
          ],
          "parcoords": [
           {
            "line": {
             "colorbar": {
              "outlinewidth": 0,
              "ticks": ""
             }
            },
            "type": "parcoords"
           }
          ],
          "pie": [
           {
            "automargin": true,
            "type": "pie"
           }
          ],
          "scatter": [
           {
            "fillpattern": {
             "fillmode": "overlay",
             "size": 10,
             "solidity": 0.2
            },
            "type": "scatter"
           }
          ],
          "scatter3d": [
           {
            "line": {
             "colorbar": {
              "outlinewidth": 0,
              "ticks": ""
             }
            },
            "marker": {
             "colorbar": {
              "outlinewidth": 0,
              "ticks": ""
             }
            },
            "type": "scatter3d"
           }
          ],
          "scattercarpet": [
           {
            "marker": {
             "colorbar": {
              "outlinewidth": 0,
              "ticks": ""
             }
            },
            "type": "scattercarpet"
           }
          ],
          "scattergeo": [
           {
            "marker": {
             "colorbar": {
              "outlinewidth": 0,
              "ticks": ""
             }
            },
            "type": "scattergeo"
           }
          ],
          "scattergl": [
           {
            "marker": {
             "colorbar": {
              "outlinewidth": 0,
              "ticks": ""
             }
            },
            "type": "scattergl"
           }
          ],
          "scattermapbox": [
           {
            "marker": {
             "colorbar": {
              "outlinewidth": 0,
              "ticks": ""
             }
            },
            "type": "scattermapbox"
           }
          ],
          "scatterpolar": [
           {
            "marker": {
             "colorbar": {
              "outlinewidth": 0,
              "ticks": ""
             }
            },
            "type": "scatterpolar"
           }
          ],
          "scatterpolargl": [
           {
            "marker": {
             "colorbar": {
              "outlinewidth": 0,
              "ticks": ""
             }
            },
            "type": "scatterpolargl"
           }
          ],
          "scatterternary": [
           {
            "marker": {
             "colorbar": {
              "outlinewidth": 0,
              "ticks": ""
             }
            },
            "type": "scatterternary"
           }
          ],
          "surface": [
           {
            "colorbar": {
             "outlinewidth": 0,
             "ticks": ""
            },
            "colorscale": [
             [
              0,
              "#0d0887"
             ],
             [
              0.1111111111111111,
              "#46039f"
             ],
             [
              0.2222222222222222,
              "#7201a8"
             ],
             [
              0.3333333333333333,
              "#9c179e"
             ],
             [
              0.4444444444444444,
              "#bd3786"
             ],
             [
              0.5555555555555556,
              "#d8576b"
             ],
             [
              0.6666666666666666,
              "#ed7953"
             ],
             [
              0.7777777777777778,
              "#fb9f3a"
             ],
             [
              0.8888888888888888,
              "#fdca26"
             ],
             [
              1,
              "#f0f921"
             ]
            ],
            "type": "surface"
           }
          ],
          "table": [
           {
            "cells": {
             "fill": {
              "color": "#EBF0F8"
             },
             "line": {
              "color": "white"
             }
            },
            "header": {
             "fill": {
              "color": "#C8D4E3"
             },
             "line": {
              "color": "white"
             }
            },
            "type": "table"
           }
          ]
         },
         "layout": {
          "annotationdefaults": {
           "arrowcolor": "#2a3f5f",
           "arrowhead": 0,
           "arrowwidth": 1
          },
          "autotypenumbers": "strict",
          "coloraxis": {
           "colorbar": {
            "outlinewidth": 0,
            "ticks": ""
           }
          },
          "colorscale": {
           "diverging": [
            [
             0,
             "#8e0152"
            ],
            [
             0.1,
             "#c51b7d"
            ],
            [
             0.2,
             "#de77ae"
            ],
            [
             0.3,
             "#f1b6da"
            ],
            [
             0.4,
             "#fde0ef"
            ],
            [
             0.5,
             "#f7f7f7"
            ],
            [
             0.6,
             "#e6f5d0"
            ],
            [
             0.7,
             "#b8e186"
            ],
            [
             0.8,
             "#7fbc41"
            ],
            [
             0.9,
             "#4d9221"
            ],
            [
             1,
             "#276419"
            ]
           ],
           "sequential": [
            [
             0,
             "#0d0887"
            ],
            [
             0.1111111111111111,
             "#46039f"
            ],
            [
             0.2222222222222222,
             "#7201a8"
            ],
            [
             0.3333333333333333,
             "#9c179e"
            ],
            [
             0.4444444444444444,
             "#bd3786"
            ],
            [
             0.5555555555555556,
             "#d8576b"
            ],
            [
             0.6666666666666666,
             "#ed7953"
            ],
            [
             0.7777777777777778,
             "#fb9f3a"
            ],
            [
             0.8888888888888888,
             "#fdca26"
            ],
            [
             1,
             "#f0f921"
            ]
           ],
           "sequentialminus": [
            [
             0,
             "#0d0887"
            ],
            [
             0.1111111111111111,
             "#46039f"
            ],
            [
             0.2222222222222222,
             "#7201a8"
            ],
            [
             0.3333333333333333,
             "#9c179e"
            ],
            [
             0.4444444444444444,
             "#bd3786"
            ],
            [
             0.5555555555555556,
             "#d8576b"
            ],
            [
             0.6666666666666666,
             "#ed7953"
            ],
            [
             0.7777777777777778,
             "#fb9f3a"
            ],
            [
             0.8888888888888888,
             "#fdca26"
            ],
            [
             1,
             "#f0f921"
            ]
           ]
          },
          "colorway": [
           "#636efa",
           "#EF553B",
           "#00cc96",
           "#ab63fa",
           "#FFA15A",
           "#19d3f3",
           "#FF6692",
           "#B6E880",
           "#FF97FF",
           "#FECB52"
          ],
          "font": {
           "color": "#2a3f5f"
          },
          "geo": {
           "bgcolor": "white",
           "lakecolor": "white",
           "landcolor": "white",
           "showlakes": true,
           "showland": true,
           "subunitcolor": "#C8D4E3"
          },
          "hoverlabel": {
           "align": "left"
          },
          "hovermode": "closest",
          "mapbox": {
           "style": "light"
          },
          "paper_bgcolor": "white",
          "plot_bgcolor": "white",
          "polar": {
           "angularaxis": {
            "gridcolor": "#EBF0F8",
            "linecolor": "#EBF0F8",
            "ticks": ""
           },
           "bgcolor": "white",
           "radialaxis": {
            "gridcolor": "#EBF0F8",
            "linecolor": "#EBF0F8",
            "ticks": ""
           }
          },
          "scene": {
           "xaxis": {
            "backgroundcolor": "white",
            "gridcolor": "#DFE8F3",
            "gridwidth": 2,
            "linecolor": "#EBF0F8",
            "showbackground": true,
            "ticks": "",
            "zerolinecolor": "#EBF0F8"
           },
           "yaxis": {
            "backgroundcolor": "white",
            "gridcolor": "#DFE8F3",
            "gridwidth": 2,
            "linecolor": "#EBF0F8",
            "showbackground": true,
            "ticks": "",
            "zerolinecolor": "#EBF0F8"
           },
           "zaxis": {
            "backgroundcolor": "white",
            "gridcolor": "#DFE8F3",
            "gridwidth": 2,
            "linecolor": "#EBF0F8",
            "showbackground": true,
            "ticks": "",
            "zerolinecolor": "#EBF0F8"
           }
          },
          "shapedefaults": {
           "line": {
            "color": "#2a3f5f"
           }
          },
          "ternary": {
           "aaxis": {
            "gridcolor": "#DFE8F3",
            "linecolor": "#A2B1C6",
            "ticks": ""
           },
           "baxis": {
            "gridcolor": "#DFE8F3",
            "linecolor": "#A2B1C6",
            "ticks": ""
           },
           "bgcolor": "white",
           "caxis": {
            "gridcolor": "#DFE8F3",
            "linecolor": "#A2B1C6",
            "ticks": ""
           }
          },
          "title": {
           "x": 0.05
          },
          "xaxis": {
           "automargin": true,
           "gridcolor": "#EBF0F8",
           "linecolor": "#EBF0F8",
           "ticks": "",
           "title": {
            "standoff": 15
           },
           "zerolinecolor": "#EBF0F8",
           "zerolinewidth": 2
          },
          "yaxis": {
           "automargin": true,
           "gridcolor": "#EBF0F8",
           "linecolor": "#EBF0F8",
           "ticks": "",
           "title": {
            "standoff": 15
           },
           "zerolinecolor": "#EBF0F8",
           "zerolinewidth": 2
          }
         }
        },
        "title": {
         "text": "Cumulative PnL and Drawdown"
        },
        "xaxis": {
         "anchor": "y",
         "domain": [
          0,
          0.45
         ],
         "rangeslider": {
          "visible": true
         },
         "title": {
          "text": "Date"
         }
        },
        "xaxis2": {
         "anchor": "y2",
         "domain": [
          0.55,
          1
         ],
         "rangeslider": {
          "visible": true
         },
         "title": {
          "text": "Date"
         }
        },
        "yaxis": {
         "anchor": "x",
         "domain": [
          0,
          1
         ],
         "fixedrange": false,
         "title": {
          "text": "PnL"
         }
        },
        "yaxis2": {
         "anchor": "x2",
         "domain": [
          0,
          1
         ],
         "fixedrange": false,
         "title": {
          "text": "Drawdown"
         }
        }
       }
      }
     },
     "metadata": {},
     "output_type": "display_data"
    }
   ],
   "source": [
    "import plotly.graph_objects as go\n",
    "from plotly.subplots import make_subplots\n",
    "\n",
    "leverage = 1\n",
    "\n",
    "# Генерируем данные для графиков\n",
    "cumulative_pnl = (pd.DataFrame(all_pnl) * leverage).fillna(0).iloc[-100:].cumsum().mean(axis=1)\n",
    "drawdown = (cumulative_pnl.cummax() - cumulative_pnl) / (cumulative_pnl.cummax() + 1)\n",
    "\n",
    "# Создаем фигуру с двумя подграфиками рядом\n",
    "fig = make_subplots(rows=1, cols=2, subplot_titles=(\"Cumulative PnL\", \"Drawdown\"))\n",
    "\n",
    "# Добавляем график Cumulative PnL\n",
    "fig.add_trace(\n",
    "    go.Scatter(x=cumulative_pnl.index, y=cumulative_pnl, mode=\"lines\", name=\"Cumulative PnL\"),\n",
    "    row=1, col=1\n",
    ")\n",
    "\n",
    "# Добавляем график Drawdown\n",
    "fig.add_trace(\n",
    "    go.Scatter(x=drawdown.index, y=drawdown, mode=\"lines\", name=\"Drawdown\"),\n",
    "    row=1, col=2\n",
    ")\n",
    "\n",
    "# Настраиваем общие параметры оформления графиков\n",
    "fig.update_layout(\n",
    "    title=\"Cumulative PnL and Drawdown\",\n",
    "    xaxis_title=\"Date\",\n",
    "    yaxis_title=\"PnL\",\n",
    "    xaxis2_title=\"Date\",\n",
    "    yaxis2_title=\"Drawdown\",\n",
    "    hovermode=\"x unified\",  # Единый режим отображения подсказок для всех графиков\n",
    "    template=\"plotly_white\"\n",
    ")\n",
    "\n",
    "# Настраиваем оси для удобного масштабирования\n",
    "fig.update_xaxes(rangeslider_visible=True)\n",
    "fig.update_yaxes(fixedrange=False)\n",
    "\n",
    "# Отображаем график\n",
    "fig.show()"
   ]
  },
  {
   "cell_type": "code",
   "execution_count": 224,
   "metadata": {},
   "outputs": [],
   "source": [
    "def backtest_golden_cross(df, short_window=50, long_window=200, tp_factor=8, sl_factor=1, maker_fee=0.0002, taker_fee=0.0005):\n",
    "    df['short_ma'] = df['close'].rolling(window=short_window).mean()\n",
    "    df['long_ma'] = df['close'].rolling(window=long_window).mean()\n",
    "    \n",
    "    signals = {\n",
    "        'date': [], 'signal': [], 'entry_price': [], 'exit_price': [], 'exit_reason': [],\n",
    "        'pnl': [], 'pnl_maker': [], 'pnl_taker': []\n",
    "    }\n",
    "    position = None\n",
    "    entry_price = None\n",
    "    take_profit = None\n",
    "    stop_loss = None\n",
    "\n",
    "    for i in range(long_window, len(df)):\n",
    "        current_price = df['close'].iloc[i]\n",
    "        \n",
    "        # Если позиция не открыта, ищем сигнал для открытия позиции\n",
    "        if position is None:\n",
    "            # Золотой крест - открываем лонг\n",
    "            if df['short_ma'].iloc[i] > df['long_ma'].iloc[i] and df['short_ma'].iloc[i - 1] <= df['long_ma'].iloc[i - 1]:\n",
    "                entry_price = current_price\n",
    "                take_profit = entry_price * (1 + tp_factor / 100)\n",
    "                stop_loss = entry_price * (1 - sl_factor / 100)\n",
    "                \n",
    "                position = 'Buy'\n",
    "                signals['date'].append(df.index[i])\n",
    "                signals['signal'].append(position)\n",
    "                signals['entry_price'].append(entry_price)\n",
    "                signals['exit_price'].append(None)\n",
    "                signals['exit_reason'].append(None)\n",
    "                signals['pnl'].append(0)\n",
    "                signals['pnl_maker'].append(0)  # Начальный PnL с мейкерской комиссией\n",
    "                signals['pnl_taker'].append(0)  # Начальный PnL с тейкерской комиссией\n",
    "\n",
    "            # Крест смерти - открываем шорт\n",
    "            elif df['short_ma'].iloc[i] < df['long_ma'].iloc[i] and df['short_ma'].iloc[i - 1] >= df['long_ma'].iloc[i - 1]:\n",
    "                entry_price = current_price\n",
    "                take_profit = entry_price * (1 - tp_factor / 100)\n",
    "                stop_loss = entry_price * (1 + sl_factor / 100)\n",
    "                \n",
    "                position = 'Sell'\n",
    "                signals['date'].append(df.index[i])\n",
    "                signals['signal'].append(position)\n",
    "                signals['entry_price'].append(entry_price)\n",
    "                signals['exit_price'].append(None)\n",
    "                signals['exit_reason'].append(None)\n",
    "                signals['pnl'].append(0)\n",
    "                signals['pnl_maker'].append(0)\n",
    "                signals['pnl_taker'].append(0)\n",
    "\n",
    "        # Если позиция открыта, проверяем условия для закрытия и смены позиции\n",
    "        elif position == 'Buy':\n",
    "            if current_price >= take_profit:\n",
    "                pnl = (take_profit - entry_price) / entry_price\n",
    "                pnl_maker = pnl - maker_fee\n",
    "                pnl_taker = pnl - taker_fee\n",
    "                signals['date'].append(df.index[i])\n",
    "                signals['signal'].append('Sell')\n",
    "                signals['entry_price'].append(None)\n",
    "                signals['exit_price'].append(take_profit)\n",
    "                signals['exit_reason'].append('Take Profit')\n",
    "                signals['pnl'].append(pnl)\n",
    "                signals['pnl_maker'].append(pnl_maker)\n",
    "                signals['pnl_taker'].append(pnl_taker)\n",
    "                position = None\n",
    "\n",
    "            elif current_price <= stop_loss:\n",
    "                pnl = (stop_loss - entry_price) / entry_price\n",
    "                pnl_maker = pnl - maker_fee\n",
    "                pnl_taker = pnl - taker_fee\n",
    "                signals['date'].append(df.index[i])\n",
    "                signals['signal'].append('Sell')\n",
    "                signals['entry_price'].append(None)\n",
    "                signals['exit_price'].append(stop_loss)\n",
    "                signals['exit_reason'].append('Stop Loss')\n",
    "                signals['pnl'].append(pnl)\n",
    "                signals['pnl_maker'].append(pnl_maker)\n",
    "                signals['pnl_taker'].append(pnl_taker)\n",
    "                position = None\n",
    "\n",
    "            elif df['short_ma'].iloc[i] < df['long_ma'].iloc[i] and df['short_ma'].iloc[i - 1] >= df['long_ma'].iloc[i - 1]:\n",
    "                pnl = (current_price - entry_price) / entry_price\n",
    "                pnl_maker = pnl - maker_fee\n",
    "                pnl_taker = pnl - taker_fee\n",
    "                signals['date'].append(df.index[i])\n",
    "                signals['signal'].append('Sell')\n",
    "                signals['entry_price'].append(None)\n",
    "                signals['exit_price'].append(current_price)\n",
    "                signals['exit_reason'].append('Death Cross')\n",
    "                signals['pnl'].append(pnl)\n",
    "                signals['pnl_maker'].append(pnl_maker)\n",
    "                signals['pnl_taker'].append(pnl_taker)\n",
    "                \n",
    "                entry_price = current_price\n",
    "                take_profit = entry_price * (1 - tp_factor / 100)\n",
    "                stop_loss = entry_price * (1 + sl_factor / 100)\n",
    "                position = 'Sell'\n",
    "\n",
    "        elif position == 'Sell':\n",
    "            if current_price <= take_profit:\n",
    "                pnl = (entry_price - take_profit) / entry_price\n",
    "                pnl_maker = pnl - maker_fee\n",
    "                pnl_taker = pnl - taker_fee\n",
    "                signals['date'].append(df.index[i])\n",
    "                signals['signal'].append('Buy')\n",
    "                signals['entry_price'].append(None)\n",
    "                signals['exit_price'].append(take_profit)\n",
    "                signals['exit_reason'].append('Take Profit')\n",
    "                signals['pnl'].append(pnl)\n",
    "                signals['pnl_maker'].append(pnl_maker)\n",
    "                signals['pnl_taker'].append(pnl_taker)\n",
    "                position = None\n",
    "\n",
    "            elif current_price >= stop_loss:\n",
    "                pnl = (entry_price - stop_loss) / entry_price\n",
    "                pnl_maker = pnl - maker_fee\n",
    "                pnl_taker = pnl - taker_fee\n",
    "                signals['date'].append(df.index[i])\n",
    "                signals['signal'].append('Buy')\n",
    "                signals['entry_price'].append(None)\n",
    "                signals['exit_price'].append(stop_loss)\n",
    "                signals['exit_reason'].append('Stop Loss')\n",
    "                signals['pnl'].append(pnl)\n",
    "                signals['pnl_maker'].append(pnl_maker)\n",
    "                signals['pnl_taker'].append(pnl_taker)\n",
    "                position = None\n",
    "\n",
    "            elif df['short_ma'].iloc[i] > df['long_ma'].iloc[i] and df['short_ma'].iloc[i - 1] <= df['long_ma'].iloc[i - 1]:\n",
    "                pnl = (entry_price - current_price) / entry_price\n",
    "                pnl_maker = pnl - maker_fee\n",
    "                pnl_taker = pnl - taker_fee\n",
    "                signals['date'].append(df.index[i])\n",
    "                signals['signal'].append('Buy')\n",
    "                signals['entry_price'].append(None)\n",
    "                signals['exit_price'].append(current_price)\n",
    "                signals['exit_reason'].append('Golden Cross')\n",
    "                signals['pnl'].append(pnl)\n",
    "                signals['pnl_maker'].append(pnl_maker)\n",
    "                signals['pnl_taker'].append(pnl_taker)\n",
    "                \n",
    "                entry_price = current_price\n",
    "                take_profit = entry_price * (1 + tp_factor / 100)\n",
    "                stop_loss = entry_price * (1 - sl_factor / 100)\n",
    "                position = 'Buy'\n",
    "\n",
    "    results_df = pd.DataFrame(signals)\n",
    "    return results_df\n",
    "\n",
    "# Проверим стратегию на данных\n",
    "interval = 4\n",
    "close_resampled = close.resample(f'{interval}H').last()\n",
    "all_pnl_no_fees = {}\n",
    "all_pnl_maker_fees = {}\n",
    "all_pnl_taker_fees = {}\n",
    "\n",
    "for ticker in tickers:\n",
    "    close_resampled = close.resample(f'{interval}H').last().sort_index()\n",
    "    open_resampled = open.resample(f'{interval}H').first().sort_index()\n",
    "    high_resampled = high.resample(f'{interval}H').max().sort_index()\n",
    "    low_resampled = low.resample(f'{interval}H').min().sort_index()\n",
    "    qvolume_resampled = qvolume.resample(f'{interval}H').sum().sort_index()\n",
    "    bvolume_resampled = bvolume.resample(f'{interval}H').sum().sort_index()\n",
    "\n",
    "    data = pd.DataFrame({\n",
    "            'close': close_resampled[ticker],\n",
    "            'open': open_resampled[ticker],\n",
    "            'high': high_resampled[ticker],\n",
    "            'low': low_resampled[ticker],\n",
    "            'qvolume': qvolume_resampled[ticker],\n",
    "            'bvolume': bvolume_resampled[ticker]\n",
    "        })\n",
    "\n",
    "    # Применение функции и расчет кумулятивного PnL\n",
    "    results_df = backtest_golden_cross(data, 30, 90, tp_factor=20, sl_factor=2)\n",
    "    results_df['cumulative_pnl'] = ((1 + results_df['pnl']).cumprod() - 1) * 100  # Кумулятивный процентный PnL\n",
    "    results_df.index = pd.to_datetime(results_df['date'])\n",
    "    all_pnl[ticker] = results_df['pnl']\n",
    "    all_pnl_maker_fees[ticker] = results_df['pnl_maker']\n",
    "    all_pnl_taker_fees[ticker] = results_df['pnl_taker']"
   ]
  },
  {
   "cell_type": "code",
   "execution_count": 240,
   "metadata": {},
   "outputs": [
    {
     "data": {
      "image/png": "[encoded data removed]",
      "text/plain": [
       "<Figure size 640x480 with 1 Axes>"
      ]
     },
     "metadata": {},
     "output_type": "display_data"
    }
   ],
   "source": [
    "pd.DataFrame(all_pnl_taker_fees).fillna(0).iloc[-100:].cumsum().mean(axis=1).plot(label='taker')\n",
    "pd.DataFrame(all_pnl_maker_fees).fillna(0).iloc[-100:].cumsum().mean(axis=1).plot(label='maker')\n",
    "pd.DataFrame(all_pnl).fillna(0).iloc[-100:].cumsum().mean(axis=1).plot(label='no_fees')\n",
    "\n",
    "plt.legend()\n",
    "plt.show()"
   ]
  },
  {
   "cell_type": "code",
   "execution_count": 243,
   "metadata": {},
   "outputs": [
    {
     "data": {
      "application/vnd.plotly.v1+json": {
       "config": {
        "plotlyServerURL": "https://plot.ly"
       },
       "data": [
        {
         "mode": "lines",
         "name": "Cumulative PnL",
         "type": "scatter",
         "x": [
          "2023-09-16T20:00:00+00:00",
          "2023-09-17T16:00:00+00:00",
          "2023-09-17T20:00:00+00:00",
          "2023-09-18T04:00:00+00:00",
          "2023-09-18T20:00:00+00:00",
          "2023-09-20T12:00:00+00:00",
          "2023-09-21T00:00:00+00:00",
          "2023-09-21T04:00:00+00:00",
          "2023-09-21T08:00:00+00:00",
          "2023-09-21T12:00:00+00:00",
          "2023-09-23T08:00:00+00:00",
          "2023-09-24T00:00:00+00:00",
          "2023-09-24T04:00:00+00:00",
          "2023-09-24T20:00:00+00:00",
          "2023-09-26T04:00:00+00:00",
          "2023-09-26T12:00:00+00:00",
          "2023-09-27T08:00:00+00:00",
          "2023-09-28T04:00:00+00:00",
          "2023-09-28T12:00:00+00:00",
          "2023-09-28T16:00:00+00:00",
          "2023-09-29T00:00:00+00:00",
          "2023-09-29T04:00:00+00:00",
          "2023-09-29T12:00:00+00:00",
          "2023-09-29T20:00:00+00:00",
          "2023-09-30T00:00:00+00:00",
          "2023-09-30T04:00:00+00:00",
          "2023-09-30T08:00:00+00:00",
          "2023-09-30T12:00:00+00:00",
          "2023-10-01T00:00:00+00:00",
          "2023-10-01T04:00:00+00:00",
          "2023-10-02T00:00:00+00:00",
          "2023-10-02T04:00:00+00:00",
          "2023-10-02T16:00:00+00:00",
          "2023-10-04T12:00:00+00:00",
          "2023-10-05T12:00:00+00:00",
          "2023-10-07T04:00:00+00:00",
          "2023-10-07T08:00:00+00:00",
          "2023-10-07T12:00:00+00:00",
          "2023-10-08T12:00:00+00:00",
          "2023-10-08T16:00:00+00:00",
          "2023-10-09T08:00:00+00:00",
          "2023-10-09T12:00:00+00:00",
          "2023-10-10T16:00:00+00:00",
          "2023-10-11T08:00:00+00:00",
          "2023-10-12T12:00:00+00:00",
          "2023-10-12T16:00:00+00:00",
          "2023-10-12T20:00:00+00:00",
          "2023-10-13T20:00:00+00:00",
          "2023-10-16T04:00:00+00:00",
          "2023-10-18T04:00:00+00:00",
          "2023-10-18T08:00:00+00:00",
          "2023-10-19T20:00:00+00:00",
          "2023-10-20T04:00:00+00:00",
          "2023-10-21T04:00:00+00:00",
          "2023-10-21T08:00:00+00:00",
          "2023-10-21T12:00:00+00:00",
          "2023-10-21T20:00:00+00:00",
          "2023-10-22T00:00:00+00:00",
          "2023-10-22T12:00:00+00:00",
          "2023-10-23T04:00:00+00:00",
          "2023-10-24T08:00:00+00:00",
          "2023-10-26T08:00:00+00:00",
          "2023-11-01T20:00:00+00:00",
          "2023-11-02T00:00:00+00:00",
          "2023-11-05T00:00:00+00:00",
          "2023-11-09T12:00:00+00:00",
          "2023-11-10T00:00:00+00:00",
          "2023-11-16T12:00:00+00:00",
          "2023-11-18T08:00:00+00:00",
          "2023-11-19T08:00:00+00:00",
          "2023-11-19T16:00:00+00:00",
          "2023-11-20T08:00:00+00:00",
          "2023-11-20T12:00:00+00:00",
          "2023-11-23T16:00:00+00:00",
          "2023-11-24T04:00:00+00:00",
          "2023-11-24T08:00:00+00:00",
          "2023-11-24T12:00:00+00:00",
          "2023-11-26T20:00:00+00:00",
          "2023-11-27T00:00:00+00:00",
          "2023-11-27T08:00:00+00:00",
          "2023-11-28T08:00:00+00:00",
          "2023-11-28T20:00:00+00:00",
          "2023-11-29T04:00:00+00:00",
          "2023-12-01T04:00:00+00:00",
          "2023-12-02T04:00:00+00:00",
          "2023-12-03T20:00:00+00:00",
          "2023-12-04T12:00:00+00:00",
          "2023-12-05T16:00:00+00:00",
          "2023-12-07T16:00:00+00:00",
          "2023-12-08T20:00:00+00:00",
          "2023-12-13T00:00:00+00:00",
          "2023-12-13T20:00:00+00:00",
          "2023-12-14T08:00:00+00:00",
          "2023-12-14T20:00:00+00:00",
          "2023-12-15T16:00:00+00:00",
          "2023-12-16T04:00:00+00:00",
          "2023-12-17T08:00:00+00:00",
          "2023-12-19T00:00:00+00:00",
          "2023-12-22T04:00:00+00:00",
          "2023-12-22T08:00:00+00:00",
          "2023-12-24T04:00:00+00:00",
          "2023-12-25T08:00:00+00:00",
          "2023-12-26T04:00:00+00:00",
          "2023-12-26T08:00:00+00:00",
          "2023-12-26T12:00:00+00:00",
          "2023-12-29T16:00:00+00:00",
          "2023-12-30T04:00:00+00:00",
          "2023-12-30T16:00:00+00:00",
          "2024-01-01T16:00:00+00:00",
          "2024-01-02T16:00:00+00:00",
          "2024-01-03T08:00:00+00:00",
          "2024-01-03T12:00:00+00:00",
          "2024-01-03T16:00:00+00:00",
          "2024-01-04T20:00:00+00:00",
          "2024-01-05T12:00:00+00:00",
          "2024-01-08T00:00:00+00:00",
          "2024-01-08T12:00:00+00:00",
          "2024-01-09T04:00:00+00:00",
          "2024-01-10T20:00:00+00:00",
          "2024-01-11T00:00:00+00:00",
          "2024-01-11T08:00:00+00:00",
          "2024-01-12T20:00:00+00:00",
          "2024-01-14T08:00:00+00:00",
          "2024-01-14T20:00:00+00:00",
          "2024-01-15T08:00:00+00:00",
          "2024-01-15T12:00:00+00:00",
          "2024-01-16T04:00:00+00:00",
          "2024-01-16T12:00:00+00:00",
          "2024-01-17T16:00:00+00:00",
          "2024-01-18T12:00:00+00:00",
          "2024-01-18T16:00:00+00:00",
          "2024-01-19T04:00:00+00:00",
          "2024-01-21T20:00:00+00:00",
          "2024-01-22T00:00:00+00:00",
          "2024-01-22T12:00:00+00:00",
          "2024-01-23T08:00:00+00:00",
          "2024-01-24T20:00:00+00:00",
          "2024-01-25T00:00:00+00:00",
          "2024-01-25T20:00:00+00:00",
          "2024-01-26T08:00:00+00:00",
          "2024-01-27T16:00:00+00:00",
          "2024-01-28T00:00:00+00:00",
          "2024-01-29T16:00:00+00:00",
          "2024-01-29T20:00:00+00:00",
          "2024-01-30T00:00:00+00:00",
          "2024-01-31T00:00:00+00:00",
          "2024-01-31T04:00:00+00:00",
          "2024-01-31T08:00:00+00:00",
          "2024-01-31T20:00:00+00:00",
          "2024-02-01T00:00:00+00:00",
          "2024-02-02T12:00:00+00:00",
          "2024-02-03T20:00:00+00:00",
          "2024-02-06T16:00:00+00:00",
          "2024-02-10T00:00:00+00:00",
          "2024-02-11T04:00:00+00:00",
          "2024-02-12T08:00:00+00:00",
          "2024-02-14T08:00:00+00:00",
          "2024-02-21T12:00:00+00:00",
          "2024-02-22T00:00:00+00:00",
          "2024-02-22T04:00:00+00:00",
          "2024-02-25T08:00:00+00:00",
          "2024-02-26T16:00:00+00:00",
          "2024-02-27T08:00:00+00:00",
          "2024-02-27T20:00:00+00:00",
          "2024-02-28T08:00:00+00:00",
          "2024-02-28T16:00:00+00:00",
          "2024-02-29T08:00:00+00:00",
          "2024-02-29T16:00:00+00:00",
          "2024-02-29T20:00:00+00:00",
          "2024-03-01T04:00:00+00:00",
          "2024-03-02T00:00:00+00:00",
          "2024-03-05T16:00:00+00:00",
          "2024-03-16T16:00:00+00:00",
          "2024-03-16T20:00:00+00:00",
          "2024-03-17T00:00:00+00:00",
          "2024-03-17T12:00:00+00:00",
          "2024-03-17T16:00:00+00:00",
          "2024-03-17T20:00:00+00:00",
          "2024-03-18T12:00:00+00:00",
          "2024-03-18T20:00:00+00:00",
          "2024-03-19T00:00:00+00:00",
          "2024-03-20T20:00:00+00:00",
          "2024-03-21T12:00:00+00:00",
          "2024-03-22T16:00:00+00:00",
          "2024-03-23T12:00:00+00:00",
          "2024-03-25T08:00:00+00:00",
          "2024-03-25T20:00:00+00:00",
          "2024-03-26T04:00:00+00:00",
          "2024-03-27T04:00:00+00:00",
          "2024-03-27T12:00:00+00:00",
          "2024-03-27T20:00:00+00:00",
          "2024-03-28T00:00:00+00:00",
          "2024-03-28T08:00:00+00:00",
          "2024-03-29T00:00:00+00:00",
          "2024-03-29T12:00:00+00:00",
          "2024-03-29T16:00:00+00:00",
          "2024-04-01T04:00:00+00:00",
          "2024-04-02T00:00:00+00:00",
          "2024-04-02T08:00:00+00:00",
          "2024-04-02T16:00:00+00:00"
         ],
         "xaxis": "x",
         "y": [
          0,
          -0.006833333333333319,
          -0.0038964969514802567,
          -0.009323199829672186,
          -0.009323199829672186,
          -0.009323199829672186,
          -0.0038622285410473234,
          -0.010695561874380647,
          -0.017528895207714,
          -0.03119556187438067,
          -0.03119556187438067,
          -0.03119556187438067,
          -0.03119556187438067,
          -0.03119556187438067,
          -0.034555955759021734,
          -0.041389289092355064,
          -0.055055955759021745,
          -0.055055955759021745,
          -0.061889289092355075,
          -0.06570647628153357,
          -0.07253980961486693,
          -0.07937314294820026,
          -0.08620647628153359,
          -0.08620647628153359,
          -0.08620647628153359,
          -0.08620647628153359,
          -0.08620647628153359,
          -0.08620647628153359,
          -0.08620647628153359,
          -0.08620647628153359,
          -0.08620647628153359,
          -0.019706476281533606,
          -0.026539809614866947,
          -0.03337314294820031,
          -0.04020647628153367,
          -0.04020647628153367,
          -0.04020647628153367,
          -0.04020647628153367,
          -0.04020647628153367,
          -0.047039809614867006,
          -0.053873142948200364,
          -0.06070647628153371,
          -0.06070647628153371,
          -0.06070647628153371,
          -0.06753980961486705,
          -0.07180886965259874,
          -0.07180886965259874,
          -0.07864220298593207,
          -0.08547553631926541,
          -0.08547553631926541,
          -0.08583028781218872,
          -0.09266362114552205,
          -0.09266362114552205,
          -0.09949695447885537,
          -0.03299695447885534,
          -0.032550361239841376,
          -0.0317390327964836,
          0.0347609672035164,
          0.0347609672035164,
          0.0347609672035164,
          0.10126096720351635,
          0.16776096720351635,
          0.23426096720351636,
          0.30076096720351636,
          0.3672609672035163,
          0.4337609672035163,
          0.5002609672035163,
          0.5002609672035163,
          0.5002609672035163,
          0.5002609672035163,
          0.4934276338701829,
          0.48659430053684954,
          0.47976096720351624,
          0.47976096720351624,
          0.47292763387018294,
          0.47292763387018294,
          0.47292763387018294,
          0.47292763387018294,
          0.4660943005368495,
          0.4592609672035162,
          0.4592609672035162,
          0.4592609672035162,
          0.4455943005368497,
          0.4455943005368497,
          0.4455943005368497,
          0.4445701847812226,
          0.4377368514478893,
          0.5042368514478892,
          0.5042368514478892,
          0.5707368514478892,
          0.5639035181145559,
          0.5639035181145559,
          0.5570701847812224,
          0.5570701847812224,
          0.5570701847812224,
          0.5570701847812224,
          0.5570701847812224,
          0.5502368514478891,
          0.5502368514478891,
          0.5434035181145558,
          0.5434035181145558,
          0.5376470186155313,
          0.5239803519488647,
          0.5836470186155313,
          0.576813685282198,
          0.576813685282198,
          0.576813685282198,
          0.5699803519488648,
          0.5631470186155314,
          0.5631470186155314,
          0.5631470186155314,
          0.5631470186155314,
          0.5563136852821979,
          0.5563136852821979,
          0.5563136852821979,
          0.689313685282198,
          0.6824803519488647,
          0.6824803519488647,
          0.6756470186155313,
          0.6756470186155313,
          0.6619803519488647,
          0.6551470186155314,
          0.6551470186155314,
          0.648313685282198,
          0.648313685282198,
          0.6346470186155312,
          0.6346470186155312,
          0.6346470186155312,
          0.6346470186155312,
          0.6557711354687502,
          0.648937802135417,
          0.648937802135417,
          0.648937802135417,
          0.6421044688020836,
          0.6421044688020836,
          0.7017711354687503,
          0.7017711354687503,
          0.7017711354687503,
          0.7017711354687503,
          0.6881044688020835,
          0.6812711354687502,
          0.6744378021354169,
          0.6744378021354169,
          0.6696825220684066,
          0.6696825220684066,
          0.6628491887350734,
          0.6809995667546196,
          0.6741662334212865,
          0.6673329000879531,
          0.6604995667546197,
          0.7269995667546199,
          0.7386788384633033,
          0.7386788384633033,
          0.7386788384633033,
          0.7386788384633033,
          0.7318455051299699,
          0.7983455051299698,
          0.8648455051299698,
          0.8648455051299698,
          0.8580121717966365,
          0.8682542863563136,
          0.8545876196896469,
          0.8477542863563136,
          0.8454928726706331,
          0.8454928726706331,
          0.8386595393372996,
          0.8386595393372996,
          0.8386595393372996,
          0.824992872670633,
          0.824992872670633,
          0.8914928726706329,
          0.8846595393372998,
          0.8846595393372998,
          0.8846595393372998,
          0.8778262060039663,
          0.8778262060039663,
          0.870992872670633,
          0.870992872670633,
          0.870992872670633,
          0.8641595393372997,
          0.8641595393372997,
          0.8573262060039664,
          0.850492872670633,
          0.850492872670633,
          0.8436595393372996,
          0.8436595393372996,
          0.8436595393372996,
          0.8436595393372996,
          0.8368262060039664,
          0.8368262060039664,
          0.8368262060039664,
          0.8368262060039664,
          0.9033262060039665,
          0.9106552184224266,
          0.9038218850890932,
          0.9038218850890932,
          0.8901552184224264,
          0.8764885517557598,
          0.8764885517557598,
          0.8764885517557598
         ],
         "yaxis": "y"
        },
        {
         "mode": "lines",
         "name": "Drawdown",
         "type": "scatter",
         "x": [
          "2023-09-16T20:00:00+00:00",
          "2023-09-17T16:00:00+00:00",
          "2023-09-17T20:00:00+00:00",
          "2023-09-18T04:00:00+00:00",
          "2023-09-18T20:00:00+00:00",
          "2023-09-20T12:00:00+00:00",
          "2023-09-21T00:00:00+00:00",
          "2023-09-21T04:00:00+00:00",
          "2023-09-21T08:00:00+00:00",
          "2023-09-21T12:00:00+00:00",
          "2023-09-23T08:00:00+00:00",
          "2023-09-24T00:00:00+00:00",
          "2023-09-24T04:00:00+00:00",
          "2023-09-24T20:00:00+00:00",
          "2023-09-26T04:00:00+00:00",
          "2023-09-26T12:00:00+00:00",
          "2023-09-27T08:00:00+00:00",
          "2023-09-28T04:00:00+00:00",
          "2023-09-28T12:00:00+00:00",
          "2023-09-28T16:00:00+00:00",
          "2023-09-29T00:00:00+00:00",
          "2023-09-29T04:00:00+00:00",
          "2023-09-29T12:00:00+00:00",
          "2023-09-29T20:00:00+00:00",
          "2023-09-30T00:00:00+00:00",
          "2023-09-30T04:00:00+00:00",
          "2023-09-30T08:00:00+00:00",
          "2023-09-30T12:00:00+00:00",
          "2023-10-01T00:00:00+00:00",
          "2023-10-01T04:00:00+00:00",
          "2023-10-02T00:00:00+00:00",
          "2023-10-02T04:00:00+00:00",
          "2023-10-02T16:00:00+00:00",
          "2023-10-04T12:00:00+00:00",
          "2023-10-05T12:00:00+00:00",
          "2023-10-07T04:00:00+00:00",
          "2023-10-07T08:00:00+00:00",
          "2023-10-07T12:00:00+00:00",
          "2023-10-08T12:00:00+00:00",
          "2023-10-08T16:00:00+00:00",
          "2023-10-09T08:00:00+00:00",
          "2023-10-09T12:00:00+00:00",
          "2023-10-10T16:00:00+00:00",
          "2023-10-11T08:00:00+00:00",
          "2023-10-12T12:00:00+00:00",
          "2023-10-12T16:00:00+00:00",
          "2023-10-12T20:00:00+00:00",
          "2023-10-13T20:00:00+00:00",
          "2023-10-16T04:00:00+00:00",
          "2023-10-18T04:00:00+00:00",
          "2023-10-18T08:00:00+00:00",
          "2023-10-19T20:00:00+00:00",
          "2023-10-20T04:00:00+00:00",
          "2023-10-21T04:00:00+00:00",
          "2023-10-21T08:00:00+00:00",
          "2023-10-21T12:00:00+00:00",
          "2023-10-21T20:00:00+00:00",
          "2023-10-22T00:00:00+00:00",
          "2023-10-22T12:00:00+00:00",
          "2023-10-23T04:00:00+00:00",
          "2023-10-24T08:00:00+00:00",
          "2023-10-26T08:00:00+00:00",
          "2023-11-01T20:00:00+00:00",
          "2023-11-02T00:00:00+00:00",
          "2023-11-05T00:00:00+00:00",
          "2023-11-09T12:00:00+00:00",
          "2023-11-10T00:00:00+00:00",
          "2023-11-16T12:00:00+00:00",
          "2023-11-18T08:00:00+00:00",
          "2023-11-19T08:00:00+00:00",
          "2023-11-19T16:00:00+00:00",
          "2023-11-20T08:00:00+00:00",
          "2023-11-20T12:00:00+00:00",
          "2023-11-23T16:00:00+00:00",
          "2023-11-24T04:00:00+00:00",
          "2023-11-24T08:00:00+00:00",
          "2023-11-24T12:00:00+00:00",
          "2023-11-26T20:00:00+00:00",
          "2023-11-27T00:00:00+00:00",
          "2023-11-27T08:00:00+00:00",
          "2023-11-28T08:00:00+00:00",
          "2023-11-28T20:00:00+00:00",
          "2023-11-29T04:00:00+00:00",
          "2023-12-01T04:00:00+00:00",
          "2023-12-02T04:00:00+00:00",
          "2023-12-03T20:00:00+00:00",
          "2023-12-04T12:00:00+00:00",
          "2023-12-05T16:00:00+00:00",
          "2023-12-07T16:00:00+00:00",
          "2023-12-08T20:00:00+00:00",
          "2023-12-13T00:00:00+00:00",
          "2023-12-13T20:00:00+00:00",
          "2023-12-14T08:00:00+00:00",
          "2023-12-14T20:00:00+00:00",
          "2023-12-15T16:00:00+00:00",
          "2023-12-16T04:00:00+00:00",
          "2023-12-17T08:00:00+00:00",
          "2023-12-19T00:00:00+00:00",
          "2023-12-22T04:00:00+00:00",
          "2023-12-22T08:00:00+00:00",
          "2023-12-24T04:00:00+00:00",
          "2023-12-25T08:00:00+00:00",
          "2023-12-26T04:00:00+00:00",
          "2023-12-26T08:00:00+00:00",
          "2023-12-26T12:00:00+00:00",
          "2023-12-29T16:00:00+00:00",
          "2023-12-30T04:00:00+00:00",
          "2023-12-30T16:00:00+00:00",
          "2024-01-01T16:00:00+00:00",
          "2024-01-02T16:00:00+00:00",
          "2024-01-03T08:00:00+00:00",
          "2024-01-03T12:00:00+00:00",
          "2024-01-03T16:00:00+00:00",
          "2024-01-04T20:00:00+00:00",
          "2024-01-05T12:00:00+00:00",
          "2024-01-08T00:00:00+00:00",
          "2024-01-08T12:00:00+00:00",
          "2024-01-09T04:00:00+00:00",
          "2024-01-10T20:00:00+00:00",
          "2024-01-11T00:00:00+00:00",
          "2024-01-11T08:00:00+00:00",
          "2024-01-12T20:00:00+00:00",
          "2024-01-14T08:00:00+00:00",
          "2024-01-14T20:00:00+00:00",
          "2024-01-15T08:00:00+00:00",
          "2024-01-15T12:00:00+00:00",
          "2024-01-16T04:00:00+00:00",
          "2024-01-16T12:00:00+00:00",
          "2024-01-17T16:00:00+00:00",
          "2024-01-18T12:00:00+00:00",
          "2024-01-18T16:00:00+00:00",
          "2024-01-19T04:00:00+00:00",
          "2024-01-21T20:00:00+00:00",
          "2024-01-22T00:00:00+00:00",
          "2024-01-22T12:00:00+00:00",
          "2024-01-23T08:00:00+00:00",
          "2024-01-24T20:00:00+00:00",
          "2024-01-25T00:00:00+00:00",
          "2024-01-25T20:00:00+00:00",
          "2024-01-26T08:00:00+00:00",
          "2024-01-27T16:00:00+00:00",
          "2024-01-28T00:00:00+00:00",
          "2024-01-29T16:00:00+00:00",
          "2024-01-29T20:00:00+00:00",
          "2024-01-30T00:00:00+00:00",
          "2024-01-31T00:00:00+00:00",
          "2024-01-31T04:00:00+00:00",
          "2024-01-31T08:00:00+00:00",
          "2024-01-31T20:00:00+00:00",
          "2024-02-01T00:00:00+00:00",
          "2024-02-02T12:00:00+00:00",
          "2024-02-03T20:00:00+00:00",
          "2024-02-06T16:00:00+00:00",
          "2024-02-10T00:00:00+00:00",
          "2024-02-11T04:00:00+00:00",
          "2024-02-12T08:00:00+00:00",
          "2024-02-14T08:00:00+00:00",
          "2024-02-21T12:00:00+00:00",
          "2024-02-22T00:00:00+00:00",
          "2024-02-22T04:00:00+00:00",
          "2024-02-25T08:00:00+00:00",
          "2024-02-26T16:00:00+00:00",
          "2024-02-27T08:00:00+00:00",
          "2024-02-27T20:00:00+00:00",
          "2024-02-28T08:00:00+00:00",
          "2024-02-28T16:00:00+00:00",
          "2024-02-29T08:00:00+00:00",
          "2024-02-29T16:00:00+00:00",
          "2024-02-29T20:00:00+00:00",
          "2024-03-01T04:00:00+00:00",
          "2024-03-02T00:00:00+00:00",
          "2024-03-05T16:00:00+00:00",
          "2024-03-16T16:00:00+00:00",
          "2024-03-16T20:00:00+00:00",
          "2024-03-17T00:00:00+00:00",
          "2024-03-17T12:00:00+00:00",
          "2024-03-17T16:00:00+00:00",
          "2024-03-17T20:00:00+00:00",
          "2024-03-18T12:00:00+00:00",
          "2024-03-18T20:00:00+00:00",
          "2024-03-19T00:00:00+00:00",
          "2024-03-20T20:00:00+00:00",
          "2024-03-21T12:00:00+00:00",
          "2024-03-22T16:00:00+00:00",
          "2024-03-23T12:00:00+00:00",
          "2024-03-25T08:00:00+00:00",
          "2024-03-25T20:00:00+00:00",
          "2024-03-26T04:00:00+00:00",
          "2024-03-27T04:00:00+00:00",
          "2024-03-27T12:00:00+00:00",
          "2024-03-27T20:00:00+00:00",
          "2024-03-28T00:00:00+00:00",
          "2024-03-28T08:00:00+00:00",
          "2024-03-29T00:00:00+00:00",
          "2024-03-29T12:00:00+00:00",
          "2024-03-29T16:00:00+00:00",
          "2024-04-01T04:00:00+00:00",
          "2024-04-02T00:00:00+00:00",
          "2024-04-02T08:00:00+00:00",
          "2024-04-02T16:00:00+00:00"
         ],
         "xaxis": "x2",
         "y": [
          0,
          0.006833333333333319,
          0.0038964969514802567,
          0.009323199829672186,
          0.009323199829672186,
          0.009323199829672186,
          0.0038622285410473234,
          0.010695561874380647,
          0.017528895207714,
          0.03119556187438067,
          0.03119556187438067,
          0.03119556187438067,
          0.03119556187438067,
          0.03119556187438067,
          0.034555955759021734,
          0.041389289092355064,
          0.055055955759021745,
          0.055055955759021745,
          0.061889289092355075,
          0.06570647628153357,
          0.07253980961486693,
          0.07937314294820026,
          0.08620647628153359,
          0.08620647628153359,
          0.08620647628153359,
          0.08620647628153359,
          0.08620647628153359,
          0.08620647628153359,
          0.08620647628153359,
          0.08620647628153359,
          0.08620647628153359,
          0.019706476281533606,
          0.026539809614866947,
          0.03337314294820031,
          0.04020647628153367,
          0.04020647628153367,
          0.04020647628153367,
          0.04020647628153367,
          0.04020647628153367,
          0.047039809614867006,
          0.053873142948200364,
          0.06070647628153371,
          0.06070647628153371,
          0.06070647628153371,
          0.06753980961486705,
          0.07180886965259874,
          0.07180886965259874,
          0.07864220298593207,
          0.08547553631926541,
          0.08547553631926541,
          0.08583028781218872,
          0.09266362114552205,
          0.09266362114552205,
          0.09949695447885537,
          0.03299695447885534,
          0.032550361239841376,
          0.0317390327964836,
          0,
          0,
          0,
          0,
          0,
          0,
          0,
          0,
          0,
          0,
          0,
          0,
          0,
          0.004554763126358432,
          0.009109526252716828,
          0.013664289379075186,
          0.013664289379075186,
          0.018219052505433545,
          0.018219052505433545,
          0.018219052505433545,
          0.018219052505433545,
          0.022773815631791976,
          0.027328578758150333,
          0.027328578758150333,
          0.027328578758150333,
          0.036438105010867014,
          0.036438105010867014,
          0.036438105010867014,
          0.03712073008611376,
          0.04167549321247212,
          0,
          0,
          0,
          0.0043503998311585175,
          0.0043503998311585175,
          0.008700799662317104,
          0.008700799662317104,
          0.008700799662317104,
          0.008700799662317104,
          0.008700799662317104,
          0.013051199493475552,
          0.013051199493475552,
          0.01740159932463407,
          0.01740159932463407,
          0.021066439487846752,
          0.029767239150163716,
          0,
          0.004314934611695944,
          0.004314934611695944,
          0.004314934611695944,
          0.008629869223391888,
          0.012944803835087901,
          0.012944803835087901,
          0.012944803835087901,
          0.012944803835087901,
          0.017259738446783985,
          0.017259738446783985,
          0.017259738446783985,
          0,
          0.00404503520741434,
          0.00404503520741434,
          0.00809007041482868,
          0.00809007041482868,
          0.016180140829657293,
          0.02022517603707163,
          0.02022517603707163,
          0.024270211244485973,
          0.024270211244485973,
          0.03236028165931472,
          0.03236028165931472,
          0.03236028165931472,
          0.03236028165931472,
          0.019855726089050535,
          0.023900761296464807,
          0.023900761296464807,
          0.023900761296464807,
          0.02794579650387915,
          0.02794579650387915,
          0,
          0,
          0,
          0,
          0.008030848791487025,
          0.012046273187230538,
          0.016061697582973985,
          0.016061697582973985,
          0.01885600991316901,
          0.01885600991316901,
          0.022871434308912454,
          0.012205853232085267,
          0.01622127762782865,
          0.02023670202357216,
          0.024252126419315675,
          0,
          0,
          0,
          0,
          0,
          0.003930187210061671,
          0,
          0,
          0,
          0.003664289247841532,
          0,
          0.0073152069107899845,
          0.010972810366184976,
          0.012183252489719947,
          0.012183252489719947,
          0.015840855945114998,
          0.015840855945114998,
          0.015840855945114998,
          0.023156062855904925,
          0.023156062855904925,
          0,
          0.003612666710017801,
          0.003612666710017801,
          0.003612666710017801,
          0.007225333420035778,
          0.007225333420035778,
          0.010838000130053697,
          0.010838000130053697,
          0.010838000130053697,
          0.014450666840071557,
          0.014450666840071557,
          0.018063333550089475,
          0.021676000260107395,
          0.021676000260107395,
          0.025288666970125315,
          0.025288666970125315,
          0.025288666970125315,
          0.025288666970125315,
          0.028901333680143172,
          0.028901333680143172,
          0.028901333680143172,
          0.028901333680143172,
          0,
          0,
          0.0035764345484453476,
          0.0035764345484453476,
          0.0107293036453361,
          0.017882172742226737,
          0.017882172742226737,
          0.017882172742226737
         ],
         "yaxis": "y2"
        }
       ],
       "layout": {
        "annotations": [
         {
          "font": {
           "size": 16
          },
          "showarrow": false,
          "text": "Cumulative PnL",
          "x": 0.225,
          "xanchor": "center",
          "xref": "paper",
          "y": 1,
          "yanchor": "bottom",
          "yref": "paper"
         },
         {
          "font": {
           "size": 16
          },
          "showarrow": false,
          "text": "Drawdown",
          "x": 0.775,
          "xanchor": "center",
          "xref": "paper",
          "y": 1,
          "yanchor": "bottom",
          "yref": "paper"
         }
        ],
        "hovermode": "x unified",
        "template": {
         "data": {
          "bar": [
           {
            "error_x": {
             "color": "#2a3f5f"
            },
            "error_y": {
             "color": "#2a3f5f"
            },
            "marker": {
             "line": {
              "color": "white",
              "width": 0.5
             },
             "pattern": {
              "fillmode": "overlay",
              "size": 10,
              "solidity": 0.2
             }
            },
            "type": "bar"
           }
          ],
          "barpolar": [
           {
            "marker": {
             "line": {
              "color": "white",
              "width": 0.5
             },
             "pattern": {
              "fillmode": "overlay",
              "size": 10,
              "solidity": 0.2
             }
            },
            "type": "barpolar"
           }
          ],
          "carpet": [
           {
            "aaxis": {
             "endlinecolor": "#2a3f5f",
             "gridcolor": "#C8D4E3",
             "linecolor": "#C8D4E3",
             "minorgridcolor": "#C8D4E3",
             "startlinecolor": "#2a3f5f"
            },
            "baxis": {
             "endlinecolor": "#2a3f5f",
             "gridcolor": "#C8D4E3",
             "linecolor": "#C8D4E3",
             "minorgridcolor": "#C8D4E3",
             "startlinecolor": "#2a3f5f"
            },
            "type": "carpet"
           }
          ],
          "choropleth": [
           {
            "colorbar": {
             "outlinewidth": 0,
             "ticks": ""
            },
            "type": "choropleth"
           }
          ],
          "contour": [
           {
            "colorbar": {
             "outlinewidth": 0,
             "ticks": ""
            },
            "colorscale": [
             [
              0,
              "#0d0887"
             ],
             [
              0.1111111111111111,
              "#46039f"
             ],
             [
              0.2222222222222222,
              "#7201a8"
             ],
             [
              0.3333333333333333,
              "#9c179e"
             ],
             [
              0.4444444444444444,
              "#bd3786"
             ],
             [
              0.5555555555555556,
              "#d8576b"
             ],
             [
              0.6666666666666666,
              "#ed7953"
             ],
             [
              0.7777777777777778,
              "#fb9f3a"
             ],
             [
              0.8888888888888888,
              "#fdca26"
             ],
             [
              1,
              "#f0f921"
             ]
            ],
            "type": "contour"
           }
          ],
          "contourcarpet": [
           {
            "colorbar": {
             "outlinewidth": 0,
             "ticks": ""
            },
            "type": "contourcarpet"
           }
          ],
          "heatmap": [
           {
            "colorbar": {
             "outlinewidth": 0,
             "ticks": ""
            },
            "colorscale": [
             [
              0,
              "#0d0887"
             ],
             [
              0.1111111111111111,
              "#46039f"
             ],
             [
              0.2222222222222222,
              "#7201a8"
             ],
             [
              0.3333333333333333,
              "#9c179e"
             ],
             [
              0.4444444444444444,
              "#bd3786"
             ],
             [
              0.5555555555555556,
              "#d8576b"
             ],
             [
              0.6666666666666666,
              "#ed7953"
             ],
             [
              0.7777777777777778,
              "#fb9f3a"
             ],
             [
              0.8888888888888888,
              "#fdca26"
             ],
             [
              1,
              "#f0f921"
             ]
            ],
            "type": "heatmap"
           }
          ],
          "heatmapgl": [
           {
            "colorbar": {
             "outlinewidth": 0,
             "ticks": ""
            },
            "colorscale": [
             [
              0,
              "#0d0887"
             ],
             [
              0.1111111111111111,
              "#46039f"
             ],
             [
              0.2222222222222222,
              "#7201a8"
             ],
             [
              0.3333333333333333,
              "#9c179e"
             ],
             [
              0.4444444444444444,
              "#bd3786"
             ],
             [
              0.5555555555555556,
              "#d8576b"
             ],
             [
              0.6666666666666666,
              "#ed7953"
             ],
             [
              0.7777777777777778,
              "#fb9f3a"
             ],
             [
              0.8888888888888888,
              "#fdca26"
             ],
             [
              1,
              "#f0f921"
             ]
            ],
            "type": "heatmapgl"
           }
          ],
          "histogram": [
           {
            "marker": {
             "pattern": {
              "fillmode": "overlay",
              "size": 10,
              "solidity": 0.2
             }
            },
            "type": "histogram"
           }
          ],
          "histogram2d": [
           {
            "colorbar": {
             "outlinewidth": 0,
             "ticks": ""
            },
            "colorscale": [
             [
              0,
              "#0d0887"
             ],
             [
              0.1111111111111111,
              "#46039f"
             ],
             [
              0.2222222222222222,
              "#7201a8"
             ],
             [
              0.3333333333333333,
              "#9c179e"
             ],
             [
              0.4444444444444444,
              "#bd3786"
             ],
             [
              0.5555555555555556,
              "#d8576b"
             ],
             [
              0.6666666666666666,
              "#ed7953"
             ],
             [
              0.7777777777777778,
              "#fb9f3a"
             ],
             [
              0.8888888888888888,
              "#fdca26"
             ],
             [
              1,
              "#f0f921"
             ]
            ],
            "type": "histogram2d"
           }
          ],
          "histogram2dcontour": [
           {
            "colorbar": {
             "outlinewidth": 0,
             "ticks": ""
            },
            "colorscale": [
             [
              0,
              "#0d0887"
             ],
             [
              0.1111111111111111,
              "#46039f"
             ],
             [
              0.2222222222222222,
              "#7201a8"
             ],
             [
              0.3333333333333333,
              "#9c179e"
             ],
             [
              0.4444444444444444,
              "#bd3786"
             ],
             [
              0.5555555555555556,
              "#d8576b"
             ],
             [
              0.6666666666666666,
              "#ed7953"
             ],
             [
              0.7777777777777778,
              "#fb9f3a"
             ],
             [
              0.8888888888888888,
              "#fdca26"
             ],
             [
              1,
              "#f0f921"
             ]
            ],
            "type": "histogram2dcontour"
           }
          ],
          "mesh3d": [
           {
            "colorbar": {
             "outlinewidth": 0,
             "ticks": ""
            },
            "type": "mesh3d"
           }
          ],
          "parcoords": [
           {
            "line": {
             "colorbar": {
              "outlinewidth": 0,
              "ticks": ""
             }
            },
            "type": "parcoords"
           }
          ],
          "pie": [
           {
            "automargin": true,
            "type": "pie"
           }
          ],
          "scatter": [
           {
            "fillpattern": {
             "fillmode": "overlay",
             "size": 10,
             "solidity": 0.2
            },
            "type": "scatter"
           }
          ],
          "scatter3d": [
           {
            "line": {
             "colorbar": {
              "outlinewidth": 0,
              "ticks": ""
             }
            },
            "marker": {
             "colorbar": {
              "outlinewidth": 0,
              "ticks": ""
             }
            },
            "type": "scatter3d"
           }
          ],
          "scattercarpet": [
           {
            "marker": {
             "colorbar": {
              "outlinewidth": 0,
              "ticks": ""
             }
            },
            "type": "scattercarpet"
           }
          ],
          "scattergeo": [
           {
            "marker": {
             "colorbar": {
              "outlinewidth": 0,
              "ticks": ""
             }
            },
            "type": "scattergeo"
           }
          ],
          "scattergl": [
           {
            "marker": {
             "colorbar": {
              "outlinewidth": 0,
              "ticks": ""
             }
            },
            "type": "scattergl"
           }
          ],
          "scattermapbox": [
           {
            "marker": {
             "colorbar": {
              "outlinewidth": 0,
              "ticks": ""
             }
            },
            "type": "scattermapbox"
           }
          ],
          "scatterpolar": [
           {
            "marker": {
             "colorbar": {
              "outlinewidth": 0,
              "ticks": ""
             }
            },
            "type": "scatterpolar"
           }
          ],
          "scatterpolargl": [
           {
            "marker": {
             "colorbar": {
              "outlinewidth": 0,
              "ticks": ""
             }
            },
            "type": "scatterpolargl"
           }
          ],
          "scatterternary": [
           {
            "marker": {
             "colorbar": {
              "outlinewidth": 0,
              "ticks": ""
             }
            },
            "type": "scatterternary"
           }
          ],
          "surface": [
           {
            "colorbar": {
             "outlinewidth": 0,
             "ticks": ""
            },
            "colorscale": [
             [
              0,
              "#0d0887"
             ],
             [
              0.1111111111111111,
              "#46039f"
             ],
             [
              0.2222222222222222,
              "#7201a8"
             ],
             [
              0.3333333333333333,
              "#9c179e"
             ],
             [
              0.4444444444444444,
              "#bd3786"
             ],
             [
              0.5555555555555556,
              "#d8576b"
             ],
             [
              0.6666666666666666,
              "#ed7953"
             ],
             [
              0.7777777777777778,
              "#fb9f3a"
             ],
             [
              0.8888888888888888,
              "#fdca26"
             ],
             [
              1,
              "#f0f921"
             ]
            ],
            "type": "surface"
           }
          ],
          "table": [
           {
            "cells": {
             "fill": {
              "color": "#EBF0F8"
             },
             "line": {
              "color": "white"
             }
            },
            "header": {
             "fill": {
              "color": "#C8D4E3"
             },
             "line": {
              "color": "white"
             }
            },
            "type": "table"
           }
          ]
         },
         "layout": {
          "annotationdefaults": {
           "arrowcolor": "#2a3f5f",
           "arrowhead": 0,
           "arrowwidth": 1
          },
          "autotypenumbers": "strict",
          "coloraxis": {
           "colorbar": {
            "outlinewidth": 0,
            "ticks": ""
           }
          },
          "colorscale": {
           "diverging": [
            [
             0,
             "#8e0152"
            ],
            [
             0.1,
             "#c51b7d"
            ],
            [
             0.2,
             "#de77ae"
            ],
            [
             0.3,
             "#f1b6da"
            ],
            [
             0.4,
             "#fde0ef"
            ],
            [
             0.5,
             "#f7f7f7"
            ],
            [
             0.6,
             "#e6f5d0"
            ],
            [
             0.7,
             "#b8e186"
            ],
            [
             0.8,
             "#7fbc41"
            ],
            [
             0.9,
             "#4d9221"
            ],
            [
             1,
             "#276419"
            ]
           ],
           "sequential": [
            [
             0,
             "#0d0887"
            ],
            [
             0.1111111111111111,
             "#46039f"
            ],
            [
             0.2222222222222222,
             "#7201a8"
            ],
            [
             0.3333333333333333,
             "#9c179e"
            ],
            [
             0.4444444444444444,
             "#bd3786"
            ],
            [
             0.5555555555555556,
             "#d8576b"
            ],
            [
             0.6666666666666666,
             "#ed7953"
            ],
            [
             0.7777777777777778,
             "#fb9f3a"
            ],
            [
             0.8888888888888888,
             "#fdca26"
            ],
            [
             1,
             "#f0f921"
            ]
           ],
           "sequentialminus": [
            [
             0,
             "#0d0887"
            ],
            [
             0.1111111111111111,
             "#46039f"
            ],
            [
             0.2222222222222222,
             "#7201a8"
            ],
            [
             0.3333333333333333,
             "#9c179e"
            ],
            [
             0.4444444444444444,
             "#bd3786"
            ],
            [
             0.5555555555555556,
             "#d8576b"
            ],
            [
             0.6666666666666666,
             "#ed7953"
            ],
            [
             0.7777777777777778,
             "#fb9f3a"
            ],
            [
             0.8888888888888888,
             "#fdca26"
            ],
            [
             1,
             "#f0f921"
            ]
           ]
          },
          "colorway": [
           "#636efa",
           "#EF553B",
           "#00cc96",
           "#ab63fa",
           "#FFA15A",
           "#19d3f3",
           "#FF6692",
           "#B6E880",
           "#FF97FF",
           "#FECB52"
          ],
          "font": {
           "color": "#2a3f5f"
          },
          "geo": {
           "bgcolor": "white",
           "lakecolor": "white",
           "landcolor": "white",
           "showlakes": true,
           "showland": true,
           "subunitcolor": "#C8D4E3"
          },
          "hoverlabel": {
           "align": "left"
          },
          "hovermode": "closest",
          "mapbox": {
           "style": "light"
          },
          "paper_bgcolor": "white",
          "plot_bgcolor": "white",
          "polar": {
           "angularaxis": {
            "gridcolor": "#EBF0F8",
            "linecolor": "#EBF0F8",
            "ticks": ""
           },
           "bgcolor": "white",
           "radialaxis": {
            "gridcolor": "#EBF0F8",
            "linecolor": "#EBF0F8",
            "ticks": ""
           }
          },
          "scene": {
           "xaxis": {
            "backgroundcolor": "white",
            "gridcolor": "#DFE8F3",
            "gridwidth": 2,
            "linecolor": "#EBF0F8",
            "showbackground": true,
            "ticks": "",
            "zerolinecolor": "#EBF0F8"
           },
           "yaxis": {
            "backgroundcolor": "white",
            "gridcolor": "#DFE8F3",
            "gridwidth": 2,
            "linecolor": "#EBF0F8",
            "showbackground": true,
            "ticks": "",
            "zerolinecolor": "#EBF0F8"
           },
           "zaxis": {
            "backgroundcolor": "white",
            "gridcolor": "#DFE8F3",
            "gridwidth": 2,
            "linecolor": "#EBF0F8",
            "showbackground": true,
            "ticks": "",
            "zerolinecolor": "#EBF0F8"
           }
          },
          "shapedefaults": {
           "line": {
            "color": "#2a3f5f"
           }
          },
          "ternary": {
           "aaxis": {
            "gridcolor": "#DFE8F3",
            "linecolor": "#A2B1C6",
            "ticks": ""
           },
           "baxis": {
            "gridcolor": "#DFE8F3",
            "linecolor": "#A2B1C6",
            "ticks": ""
           },
           "bgcolor": "white",
           "caxis": {
            "gridcolor": "#DFE8F3",
            "linecolor": "#A2B1C6",
            "ticks": ""
           }
          },
          "title": {
           "x": 0.05
          },
          "xaxis": {
           "automargin": true,
           "gridcolor": "#EBF0F8",
           "linecolor": "#EBF0F8",
           "ticks": "",
           "title": {
            "standoff": 15
           },
           "zerolinecolor": "#EBF0F8",
           "zerolinewidth": 2
          },
          "yaxis": {
           "automargin": true,
           "gridcolor": "#EBF0F8",
           "linecolor": "#EBF0F8",
           "ticks": "",
           "title": {
            "standoff": 15
           },
           "zerolinecolor": "#EBF0F8",
           "zerolinewidth": 2
          }
         }
        },
        "title": {
         "text": "Cumulative PnL and Drawdown"
        },
        "xaxis": {
         "anchor": "y",
         "domain": [
          0,
          0.45
         ],
         "rangeslider": {
          "visible": true
         },
         "title": {
          "text": "Date"
         }
        },
        "xaxis2": {
         "anchor": "y2",
         "domain": [
          0.55,
          1
         ],
         "rangeslider": {
          "visible": true
         },
         "title": {
          "text": "Date"
         }
        },
        "yaxis": {
         "anchor": "x",
         "domain": [
          0,
          1
         ],
         "fixedrange": false,
         "title": {
          "text": "PnL"
         }
        },
        "yaxis2": {
         "anchor": "x2",
         "domain": [
          0,
          1
         ],
         "fixedrange": false,
         "title": {
          "text": "Drawdown"
         }
        }
       }
      }
     },
     "metadata": {},
     "output_type": "display_data"
    }
   ],
   "source": [
    "import plotly.graph_objects as go\n",
    "from plotly.subplots import make_subplots\n",
    "\n",
    "leverage = 3\n",
    "\n",
    "# Генерируем данные для графиков\n",
    "cumulative_pnl = (pd.DataFrame(all_pnl_taker_fees) * leverage).fillna(0).iloc[-200:].cumsum().mean(axis=1)\n",
    "drawdown = (cumulative_pnl.cummax() - cumulative_pnl) / (cumulative_pnl.cummax() + 1)\n",
    "\n",
    "# Создаем фигуру с двумя подграфиками рядом\n",
    "fig = make_subplots(rows=1, cols=2, subplot_titles=(\"Cumulative PnL\", \"Drawdown\"))\n",
    "\n",
    "# Добавляем график Cumulative PnL\n",
    "fig.add_trace(\n",
    "    go.Scatter(x=cumulative_pnl.index, y=cumulative_pnl, mode=\"lines\", name=\"Cumulative PnL\"),\n",
    "    row=1, col=1\n",
    ")\n",
    "\n",
    "# Добавляем график Drawdown\n",
    "fig.add_trace(\n",
    "    go.Scatter(x=drawdown.index, y=drawdown, mode=\"lines\", name=\"Drawdown\"),\n",
    "    row=1, col=2\n",
    ")\n",
    "\n",
    "# Настраиваем общие параметры оформления графиков\n",
    "fig.update_layout(\n",
    "    title=\"Cumulative PnL and Drawdown\",\n",
    "    xaxis_title=\"Date\",\n",
    "    yaxis_title=\"PnL\",\n",
    "    xaxis2_title=\"Date\",\n",
    "    yaxis2_title=\"Drawdown\",\n",
    "    hovermode=\"x unified\",  # Единый режим отображения подсказок для всех графиков\n",
    "    template=\"plotly_white\"\n",
    ")\n",
    "\n",
    "# Настраиваем оси для удобного масштабирования\n",
    "fig.update_xaxes(rangeslider_visible=True)\n",
    "fig.update_yaxes(fixedrange=False)\n",
    "\n",
    "# Отображаем график\n",
    "fig.show()"
   ]
  }
 ],
 "metadata": {
  "kernelspec": {
   "display_name": "Python 3",
   "language": "python",
   "name": "python3"
  },
  "language_info": {
   "codemirror_mode": {
    "name": "ipython",
    "version": 3
   },
   "file_extension": ".py",
   "mimetype": "text/x-python",
   "name": "python",
   "nbconvert_exporter": "python",
   "pygments_lexer": "ipython3",
   "version": "3.11.0"
  }
 },
 "nbformat": 4,
 "nbformat_minor": 2
}
